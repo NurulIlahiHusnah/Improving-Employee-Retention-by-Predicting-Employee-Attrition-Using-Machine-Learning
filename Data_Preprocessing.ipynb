{
  "cells": [
    {
      "cell_type": "code",
      "source": [
        "from google.colab import drive\n",
        "drive.mount('/content/drive')"
      ],
      "metadata": {
        "id": "95qd9haBQw6Y",
        "outputId": "dae9d46d-e7d7-47e6-df0b-6414db552345",
        "colab": {
          "base_uri": "https://localhost:8080/"
        }
      },
      "execution_count": null,
      "outputs": [
        {
          "output_type": "stream",
          "name": "stdout",
          "text": [
            "Mounted at /content/drive\n"
          ]
        }
      ]
    },
    {
      "cell_type": "code",
      "source": [
        "# Mengimport library yang aka digunakan\n",
        "import numpy as np\n",
        "import pandas as pd\n",
        "import seaborn as sns\n",
        "import matplotlib.pyplot as plt"
      ],
      "metadata": {
        "id": "Etj55jHAQ0wG"
      },
      "execution_count": null,
      "outputs": []
    },
    {
      "cell_type": "code",
      "source": [
        "# Mengupload data\n",
        "data = pd.read_excel(\"/content/drive/MyDrive/Dataset/Improving Employee Retention by Predicting Employee Attrition Using Machine Learning.xlsx\")\n",
        "print()\n",
        "print(data.dtypes)\n",
        "print()\n",
        "print(data.shape)\n",
        "data.head(5)"
      ],
      "metadata": {
        "id": "wzws6QykRE1K",
        "outputId": "b7a49a13-6e0f-4381-d252-a6fe1dfe050d",
        "colab": {
          "base_uri": "https://localhost:8080/",
          "height": 1000
        }
      },
      "execution_count": null,
      "outputs": [
        {
          "output_type": "stream",
          "name": "stdout",
          "text": [
            "\n",
            "Username                               object\n",
            "EnterpriseID                            int64\n",
            "StatusPernikahan                       object\n",
            "JenisKelamin                           object\n",
            "StatusKepegawaian                      object\n",
            "Pekerjaan                              object\n",
            "JenjangKarir                           object\n",
            "PerformancePegawai                     object\n",
            "AsalDaerah                             object\n",
            "HiringPlatform                         object\n",
            "SkorSurveyEngagement                    int64\n",
            "SkorKepuasanPegawai                   float64\n",
            "JumlahKeikutsertaanProjek             float64\n",
            "JumlahKeterlambatanSebulanTerakhir    float64\n",
            "JumlahKetidakhadiran                  float64\n",
            "NomorHP                                object\n",
            "Email                                  object\n",
            "TingkatPendidikan                      object\n",
            "PernahBekerja                          object\n",
            "IkutProgramLOP                        float64\n",
            "AlasanResign                           object\n",
            "TanggalLahir                           object\n",
            "TanggalHiring                          object\n",
            "TanggalPenilaianKaryawan               object\n",
            "TanggalResign                          object\n",
            "dtype: object\n",
            "\n",
            "(287, 25)\n"
          ]
        },
        {
          "output_type": "execute_result",
          "data": {
            "text/plain": [
              "            Username  EnterpriseID StatusPernikahan JenisKelamin  \\\n",
              "0  spiritedPorpoise3        111065    Belum_menikah         Pria   \n",
              "1    jealousGelding2        106080    Belum_menikah         Pria   \n",
              "2      pluckyMuesli3        106452          Menikah         Pria   \n",
              "3   stressedTruffle1        106325    Belum_menikah         Pria   \n",
              "4        shyTermite7        111171    Belum_menikah       Wanita   \n",
              "\n",
              "  StatusKepegawaian                      Pekerjaan           JenjangKarir  \\\n",
              "0         Outsource   Software Engineer (Back End)  Freshgraduate_program   \n",
              "1          FullTime                   Data Analyst  Freshgraduate_program   \n",
              "2          FullTime  Software Engineer (Front End)  Freshgraduate_program   \n",
              "3         Outsource  Software Engineer (Front End)  Freshgraduate_program   \n",
              "4          FullTime                Product Manager  Freshgraduate_program   \n",
              "\n",
              "  PerformancePegawai     AsalDaerah     HiringPlatform  ...         NomorHP  \\\n",
              "0       Sangat_bagus  Jakarta Timur  Employee_Referral  ...  +6282232522xxx   \n",
              "1      Sangat_kurang  Jakarta Utara            Website  ...  +6281270745xxx   \n",
              "2              Bagus  Jakarta Timur             Indeed  ...  +6281346215xxx   \n",
              "3              Bagus  Jakarta Pusat           LinkedIn  ...  +6283233846xxx   \n",
              "4              Bagus  Jakarta Timur           LinkedIn  ...  +6287883263xxx   \n",
              "\n",
              "                             Email  TingkatPendidikan  PernahBekerja  \\\n",
              "0   spiritedPorpoise3135@yahoo.com           Magister              1   \n",
              "1     jealousGelding2239@yahoo.com            Sarjana              1   \n",
              "2      pluckyMuesli3961@icloud.com           Magister              1   \n",
              "3  stressedTruffle1406@hotmail.com            Sarjana              1   \n",
              "4         shyTermite7149@gmail.com            Sarjana              1   \n",
              "\n",
              "   IkutProgramLOP   AlasanResign TanggalLahir TanggalHiring  \\\n",
              "0             1.0  masih_bekerja   1972-07-01    2011-01-10   \n",
              "1             1.0  toxic_culture   1984-04-26    2014-01-06   \n",
              "2             1.0      jam_kerja   1974-01-07    2011-01-10   \n",
              "3             0.0  masih_bekerja   1979-11-24     2014-2-17   \n",
              "4             0.0    ganti_karir   1974-11-07    2013-11-11   \n",
              "\n",
              "  TanggalPenilaianKaryawan  TanggalResign  \n",
              "0                2016-2-15              -  \n",
              "1                2020-1-17      2018-6-16  \n",
              "2               2016-01-10      2014-9-24  \n",
              "3               2020-02-04              -  \n",
              "4                2020-1-22     2018-09-06  \n",
              "\n",
              "[5 rows x 25 columns]"
            ],
            "text/html": [
              "\n",
              "\n",
              "  <div id=\"df-226cd464-fe15-419f-920c-3088307e53dd\">\n",
              "    <div class=\"colab-df-container\">\n",
              "      <div>\n",
              "<style scoped>\n",
              "    .dataframe tbody tr th:only-of-type {\n",
              "        vertical-align: middle;\n",
              "    }\n",
              "\n",
              "    .dataframe tbody tr th {\n",
              "        vertical-align: top;\n",
              "    }\n",
              "\n",
              "    .dataframe thead th {\n",
              "        text-align: right;\n",
              "    }\n",
              "</style>\n",
              "<table border=\"1\" class=\"dataframe\">\n",
              "  <thead>\n",
              "    <tr style=\"text-align: right;\">\n",
              "      <th></th>\n",
              "      <th>Username</th>\n",
              "      <th>EnterpriseID</th>\n",
              "      <th>StatusPernikahan</th>\n",
              "      <th>JenisKelamin</th>\n",
              "      <th>StatusKepegawaian</th>\n",
              "      <th>Pekerjaan</th>\n",
              "      <th>JenjangKarir</th>\n",
              "      <th>PerformancePegawai</th>\n",
              "      <th>AsalDaerah</th>\n",
              "      <th>HiringPlatform</th>\n",
              "      <th>...</th>\n",
              "      <th>NomorHP</th>\n",
              "      <th>Email</th>\n",
              "      <th>TingkatPendidikan</th>\n",
              "      <th>PernahBekerja</th>\n",
              "      <th>IkutProgramLOP</th>\n",
              "      <th>AlasanResign</th>\n",
              "      <th>TanggalLahir</th>\n",
              "      <th>TanggalHiring</th>\n",
              "      <th>TanggalPenilaianKaryawan</th>\n",
              "      <th>TanggalResign</th>\n",
              "    </tr>\n",
              "  </thead>\n",
              "  <tbody>\n",
              "    <tr>\n",
              "      <th>0</th>\n",
              "      <td>spiritedPorpoise3</td>\n",
              "      <td>111065</td>\n",
              "      <td>Belum_menikah</td>\n",
              "      <td>Pria</td>\n",
              "      <td>Outsource</td>\n",
              "      <td>Software Engineer (Back End)</td>\n",
              "      <td>Freshgraduate_program</td>\n",
              "      <td>Sangat_bagus</td>\n",
              "      <td>Jakarta Timur</td>\n",
              "      <td>Employee_Referral</td>\n",
              "      <td>...</td>\n",
              "      <td>+6282232522xxx</td>\n",
              "      <td>spiritedPorpoise3135@yahoo.com</td>\n",
              "      <td>Magister</td>\n",
              "      <td>1</td>\n",
              "      <td>1.0</td>\n",
              "      <td>masih_bekerja</td>\n",
              "      <td>1972-07-01</td>\n",
              "      <td>2011-01-10</td>\n",
              "      <td>2016-2-15</td>\n",
              "      <td>-</td>\n",
              "    </tr>\n",
              "    <tr>\n",
              "      <th>1</th>\n",
              "      <td>jealousGelding2</td>\n",
              "      <td>106080</td>\n",
              "      <td>Belum_menikah</td>\n",
              "      <td>Pria</td>\n",
              "      <td>FullTime</td>\n",
              "      <td>Data Analyst</td>\n",
              "      <td>Freshgraduate_program</td>\n",
              "      <td>Sangat_kurang</td>\n",
              "      <td>Jakarta Utara</td>\n",
              "      <td>Website</td>\n",
              "      <td>...</td>\n",
              "      <td>+6281270745xxx</td>\n",
              "      <td>jealousGelding2239@yahoo.com</td>\n",
              "      <td>Sarjana</td>\n",
              "      <td>1</td>\n",
              "      <td>1.0</td>\n",
              "      <td>toxic_culture</td>\n",
              "      <td>1984-04-26</td>\n",
              "      <td>2014-01-06</td>\n",
              "      <td>2020-1-17</td>\n",
              "      <td>2018-6-16</td>\n",
              "    </tr>\n",
              "    <tr>\n",
              "      <th>2</th>\n",
              "      <td>pluckyMuesli3</td>\n",
              "      <td>106452</td>\n",
              "      <td>Menikah</td>\n",
              "      <td>Pria</td>\n",
              "      <td>FullTime</td>\n",
              "      <td>Software Engineer (Front End)</td>\n",
              "      <td>Freshgraduate_program</td>\n",
              "      <td>Bagus</td>\n",
              "      <td>Jakarta Timur</td>\n",
              "      <td>Indeed</td>\n",
              "      <td>...</td>\n",
              "      <td>+6281346215xxx</td>\n",
              "      <td>pluckyMuesli3961@icloud.com</td>\n",
              "      <td>Magister</td>\n",
              "      <td>1</td>\n",
              "      <td>1.0</td>\n",
              "      <td>jam_kerja</td>\n",
              "      <td>1974-01-07</td>\n",
              "      <td>2011-01-10</td>\n",
              "      <td>2016-01-10</td>\n",
              "      <td>2014-9-24</td>\n",
              "    </tr>\n",
              "    <tr>\n",
              "      <th>3</th>\n",
              "      <td>stressedTruffle1</td>\n",
              "      <td>106325</td>\n",
              "      <td>Belum_menikah</td>\n",
              "      <td>Pria</td>\n",
              "      <td>Outsource</td>\n",
              "      <td>Software Engineer (Front End)</td>\n",
              "      <td>Freshgraduate_program</td>\n",
              "      <td>Bagus</td>\n",
              "      <td>Jakarta Pusat</td>\n",
              "      <td>LinkedIn</td>\n",
              "      <td>...</td>\n",
              "      <td>+6283233846xxx</td>\n",
              "      <td>stressedTruffle1406@hotmail.com</td>\n",
              "      <td>Sarjana</td>\n",
              "      <td>1</td>\n",
              "      <td>0.0</td>\n",
              "      <td>masih_bekerja</td>\n",
              "      <td>1979-11-24</td>\n",
              "      <td>2014-2-17</td>\n",
              "      <td>2020-02-04</td>\n",
              "      <td>-</td>\n",
              "    </tr>\n",
              "    <tr>\n",
              "      <th>4</th>\n",
              "      <td>shyTermite7</td>\n",
              "      <td>111171</td>\n",
              "      <td>Belum_menikah</td>\n",
              "      <td>Wanita</td>\n",
              "      <td>FullTime</td>\n",
              "      <td>Product Manager</td>\n",
              "      <td>Freshgraduate_program</td>\n",
              "      <td>Bagus</td>\n",
              "      <td>Jakarta Timur</td>\n",
              "      <td>LinkedIn</td>\n",
              "      <td>...</td>\n",
              "      <td>+6287883263xxx</td>\n",
              "      <td>shyTermite7149@gmail.com</td>\n",
              "      <td>Sarjana</td>\n",
              "      <td>1</td>\n",
              "      <td>0.0</td>\n",
              "      <td>ganti_karir</td>\n",
              "      <td>1974-11-07</td>\n",
              "      <td>2013-11-11</td>\n",
              "      <td>2020-1-22</td>\n",
              "      <td>2018-09-06</td>\n",
              "    </tr>\n",
              "  </tbody>\n",
              "</table>\n",
              "<p>5 rows × 25 columns</p>\n",
              "</div>\n",
              "      <button class=\"colab-df-convert\" onclick=\"convertToInteractive('df-226cd464-fe15-419f-920c-3088307e53dd')\"\n",
              "              title=\"Convert this dataframe to an interactive table.\"\n",
              "              style=\"display:none;\">\n",
              "\n",
              "  <svg xmlns=\"http://www.w3.org/2000/svg\" height=\"24px\"viewBox=\"0 0 24 24\"\n",
              "       width=\"24px\">\n",
              "    <path d=\"M0 0h24v24H0V0z\" fill=\"none\"/>\n",
              "    <path d=\"M18.56 5.44l.94 2.06.94-2.06 2.06-.94-2.06-.94-.94-2.06-.94 2.06-2.06.94zm-11 1L8.5 8.5l.94-2.06 2.06-.94-2.06-.94L8.5 2.5l-.94 2.06-2.06.94zm10 10l.94 2.06.94-2.06 2.06-.94-2.06-.94-.94-2.06-.94 2.06-2.06.94z\"/><path d=\"M17.41 7.96l-1.37-1.37c-.4-.4-.92-.59-1.43-.59-.52 0-1.04.2-1.43.59L10.3 9.45l-7.72 7.72c-.78.78-.78 2.05 0 2.83L4 21.41c.39.39.9.59 1.41.59.51 0 1.02-.2 1.41-.59l7.78-7.78 2.81-2.81c.8-.78.8-2.07 0-2.86zM5.41 20L4 18.59l7.72-7.72 1.47 1.35L5.41 20z\"/>\n",
              "  </svg>\n",
              "      </button>\n",
              "\n",
              "\n",
              "\n",
              "    <div id=\"df-6f103a16-7ca9-4a26-95ca-53d19d565329\">\n",
              "      <button class=\"colab-df-quickchart\" onclick=\"quickchart('df-6f103a16-7ca9-4a26-95ca-53d19d565329')\"\n",
              "              title=\"Suggest charts.\"\n",
              "              style=\"display:none;\">\n",
              "\n",
              "<svg xmlns=\"http://www.w3.org/2000/svg\" height=\"24px\"viewBox=\"0 0 24 24\"\n",
              "     width=\"24px\">\n",
              "    <g>\n",
              "        <path d=\"M19 3H5c-1.1 0-2 .9-2 2v14c0 1.1.9 2 2 2h14c1.1 0 2-.9 2-2V5c0-1.1-.9-2-2-2zM9 17H7v-7h2v7zm4 0h-2V7h2v10zm4 0h-2v-4h2v4z\"/>\n",
              "    </g>\n",
              "</svg>\n",
              "      </button>\n",
              "    </div>\n",
              "\n",
              "<style>\n",
              "  .colab-df-quickchart {\n",
              "    background-color: #E8F0FE;\n",
              "    border: none;\n",
              "    border-radius: 50%;\n",
              "    cursor: pointer;\n",
              "    display: none;\n",
              "    fill: #1967D2;\n",
              "    height: 32px;\n",
              "    padding: 0 0 0 0;\n",
              "    width: 32px;\n",
              "  }\n",
              "\n",
              "  .colab-df-quickchart:hover {\n",
              "    background-color: #E2EBFA;\n",
              "    box-shadow: 0px 1px 2px rgba(60, 64, 67, 0.3), 0px 1px 3px 1px rgba(60, 64, 67, 0.15);\n",
              "    fill: #174EA6;\n",
              "  }\n",
              "\n",
              "  [theme=dark] .colab-df-quickchart {\n",
              "    background-color: #3B4455;\n",
              "    fill: #D2E3FC;\n",
              "  }\n",
              "\n",
              "  [theme=dark] .colab-df-quickchart:hover {\n",
              "    background-color: #434B5C;\n",
              "    box-shadow: 0px 1px 3px 1px rgba(0, 0, 0, 0.15);\n",
              "    filter: drop-shadow(0px 1px 2px rgba(0, 0, 0, 0.3));\n",
              "    fill: #FFFFFF;\n",
              "  }\n",
              "</style>\n",
              "\n",
              "    <script>\n",
              "      async function quickchart(key) {\n",
              "        const containerElement = document.querySelector('#' + key);\n",
              "        const charts = await google.colab.kernel.invokeFunction(\n",
              "            'suggestCharts', [key], {});\n",
              "      }\n",
              "    </script>\n",
              "\n",
              "      <script>\n",
              "\n",
              "function displayQuickchartButton(domScope) {\n",
              "  let quickchartButtonEl =\n",
              "    domScope.querySelector('#df-6f103a16-7ca9-4a26-95ca-53d19d565329 button.colab-df-quickchart');\n",
              "  quickchartButtonEl.style.display =\n",
              "    google.colab.kernel.accessAllowed ? 'block' : 'none';\n",
              "}\n",
              "\n",
              "        displayQuickchartButton(document);\n",
              "      </script>\n",
              "      <style>\n",
              "    .colab-df-container {\n",
              "      display:flex;\n",
              "      flex-wrap:wrap;\n",
              "      gap: 12px;\n",
              "    }\n",
              "\n",
              "    .colab-df-convert {\n",
              "      background-color: #E8F0FE;\n",
              "      border: none;\n",
              "      border-radius: 50%;\n",
              "      cursor: pointer;\n",
              "      display: none;\n",
              "      fill: #1967D2;\n",
              "      height: 32px;\n",
              "      padding: 0 0 0 0;\n",
              "      width: 32px;\n",
              "    }\n",
              "\n",
              "    .colab-df-convert:hover {\n",
              "      background-color: #E2EBFA;\n",
              "      box-shadow: 0px 1px 2px rgba(60, 64, 67, 0.3), 0px 1px 3px 1px rgba(60, 64, 67, 0.15);\n",
              "      fill: #174EA6;\n",
              "    }\n",
              "\n",
              "    [theme=dark] .colab-df-convert {\n",
              "      background-color: #3B4455;\n",
              "      fill: #D2E3FC;\n",
              "    }\n",
              "\n",
              "    [theme=dark] .colab-df-convert:hover {\n",
              "      background-color: #434B5C;\n",
              "      box-shadow: 0px 1px 3px 1px rgba(0, 0, 0, 0.15);\n",
              "      filter: drop-shadow(0px 1px 2px rgba(0, 0, 0, 0.3));\n",
              "      fill: #FFFFFF;\n",
              "    }\n",
              "  </style>\n",
              "\n",
              "      <script>\n",
              "        const buttonEl =\n",
              "          document.querySelector('#df-226cd464-fe15-419f-920c-3088307e53dd button.colab-df-convert');\n",
              "        buttonEl.style.display =\n",
              "          google.colab.kernel.accessAllowed ? 'block' : 'none';\n",
              "\n",
              "        async function convertToInteractive(key) {\n",
              "          const element = document.querySelector('#df-226cd464-fe15-419f-920c-3088307e53dd');\n",
              "          const dataTable =\n",
              "            await google.colab.kernel.invokeFunction('convertToInteractive',\n",
              "                                                     [key], {});\n",
              "          if (!dataTable) return;\n",
              "\n",
              "          const docLinkHtml = 'Like what you see? Visit the ' +\n",
              "            '<a target=\"_blank\" href=https://colab.research.google.com/notebooks/data_table.ipynb>data table notebook</a>'\n",
              "            + ' to learn more about interactive tables.';\n",
              "          element.innerHTML = '';\n",
              "          dataTable['output_type'] = 'display_data';\n",
              "          await google.colab.output.renderOutput(dataTable, element);\n",
              "          const docLink = document.createElement('div');\n",
              "          docLink.innerHTML = docLinkHtml;\n",
              "          element.appendChild(docLink);\n",
              "        }\n",
              "      </script>\n",
              "    </div>\n",
              "  </div>\n"
            ]
          },
          "metadata": {},
          "execution_count": 9
        }
      ]
    },
    {
      "cell_type": "markdown",
      "source": [
        "- Terdapat 287 baris dan 25 kolom,\n",
        "- Terdapat beberapan type data yang kurang sesuai\n",
        "- terdapat beberapa kolom yang memiliki missing value"
      ],
      "metadata": {
        "id": "Zee9zgW3R_e5"
      }
    },
    {
      "cell_type": "code",
      "source": [
        "# melihat jumlah missning value\n",
        "data_missing = data.isnull().sum()\n",
        "missing_value = data_missing [data_missing>0]\n",
        "missing_value"
      ],
      "metadata": {
        "id": "meuznntdRZFG",
        "outputId": "88629998-a23d-4058-dd33-854175c6fe90",
        "colab": {
          "base_uri": "https://localhost:8080/"
        }
      },
      "execution_count": null,
      "outputs": [
        {
          "output_type": "execute_result",
          "data": {
            "text/plain": [
              "SkorKepuasanPegawai                     5\n",
              "JumlahKeikutsertaanProjek               3\n",
              "JumlahKeterlambatanSebulanTerakhir      1\n",
              "JumlahKetidakhadiran                    6\n",
              "IkutProgramLOP                        258\n",
              "AlasanResign                           66\n",
              "dtype: int64"
            ]
          },
          "metadata": {},
          "execution_count": 10
        }
      ]
    },
    {
      "cell_type": "markdown",
      "source": [
        "## Mengatasi data null"
      ],
      "metadata": {
        "id": "4pmQLHVUSEiK"
      }
    },
    {
      "cell_type": "code",
      "source": [
        "# melakukan drop pada kolom yang memiliki missing value diatas 10%\n",
        "data = data.drop(columns=['IkutProgramLOP','AlasanResign'])\n",
        "\n",
        "#melakukan imputasi pada kolom yang memiliki missing value dibawah 10%\n",
        "median = data_missing.median()\n",
        "data = data.fillna(median)\n",
        "\n",
        "# melakukan pengecekan missing value\n",
        "data.isnull().sum()"
      ],
      "metadata": {
        "id": "3L1Rs7UTR_GC",
        "outputId": "1b31e98a-05b6-4bd8-dc68-74d33d62fd5d",
        "colab": {
          "base_uri": "https://localhost:8080/"
        }
      },
      "execution_count": null,
      "outputs": [
        {
          "output_type": "execute_result",
          "data": {
            "text/plain": [
              "Username                              0\n",
              "EnterpriseID                          0\n",
              "StatusPernikahan                      0\n",
              "JenisKelamin                          0\n",
              "StatusKepegawaian                     0\n",
              "Pekerjaan                             0\n",
              "JenjangKarir                          0\n",
              "PerformancePegawai                    0\n",
              "AsalDaerah                            0\n",
              "HiringPlatform                        0\n",
              "SkorSurveyEngagement                  0\n",
              "SkorKepuasanPegawai                   0\n",
              "JumlahKeikutsertaanProjek             0\n",
              "JumlahKeterlambatanSebulanTerakhir    0\n",
              "JumlahKetidakhadiran                  0\n",
              "NomorHP                               0\n",
              "Email                                 0\n",
              "TingkatPendidikan                     0\n",
              "PernahBekerja                         0\n",
              "TanggalLahir                          0\n",
              "TanggalHiring                         0\n",
              "TanggalPenilaianKaryawan              0\n",
              "TanggalResign                         0\n",
              "dtype: int64"
            ]
          },
          "metadata": {},
          "execution_count": 22
        }
      ]
    },
    {
      "cell_type": "markdown",
      "source": [
        "Setelah menghandle data yang missing terdapat kolom yang masih perlu diperhatikan. Untuk kolom tanggal yang memiliki type data object perlu di ubah ke type data date karena terdapat beberapa kolom yg memiliki missing value namun tidak terdetek ketika melakukan imputasi data sebelumnya dikarenakan type data object dimana ' - ' masih memiliki nilia, padahal ini tidak memiliki arti (kosong)"
      ],
      "metadata": {
        "id": "LNoHIhJOZWqI"
      }
    },
    {
      "cell_type": "code",
      "source": [
        "# merubah type data tanggal\n",
        "data['TanggalLahir'] = pd.to_datetime(data['TanggalLahir'])\n",
        "data['TanggalHiring'] = pd.to_datetime(data['TanggalHiring'])\n",
        "data['TanggalPenilaianKaryawan'] = pd.to_datetime(data['TanggalPenilaianKaryawan'])\n",
        "data['TanggalResign'] = pd.to_datetime(data['TanggalResign'], errors='coerce')\n",
        "# melakuka pengecekan ulang pada data yg memiliki missing value\n",
        "data_missing = data.isnull().sum()\n",
        "missing_value = data_missing [data_missing>0]\n",
        "missing_value"
      ],
      "metadata": {
        "id": "xkM8gVMlTqaQ",
        "outputId": "04a0dee3-ce96-4930-8775-c97a9a1cd166",
        "colab": {
          "base_uri": "https://localhost:8080/"
        }
      },
      "execution_count": null,
      "outputs": [
        {
          "output_type": "execute_result",
          "data": {
            "text/plain": [
              "TanggalResign    198\n",
              "dtype: int64"
            ]
          },
          "metadata": {},
          "execution_count": 25
        }
      ]
    },
    {
      "cell_type": "code",
      "source": [
        "# melakukan drop pada kolom yang missing\n",
        "data =data.drop(columns='TanggalResign',axis=1)"
      ],
      "metadata": {
        "id": "l6rE5LYLZIT5"
      },
      "execution_count": null,
      "outputs": []
    },
    {
      "cell_type": "code",
      "source": [
        "data.isnull().sum()"
      ],
      "metadata": {
        "id": "vMsk8eG4b3vV",
        "outputId": "d97c039c-ea81-45b5-e6a9-7477584f9474",
        "colab": {
          "base_uri": "https://localhost:8080/"
        }
      },
      "execution_count": null,
      "outputs": [
        {
          "output_type": "execute_result",
          "data": {
            "text/plain": [
              "Username                              0\n",
              "EnterpriseID                          0\n",
              "StatusPernikahan                      0\n",
              "JenisKelamin                          0\n",
              "StatusKepegawaian                     0\n",
              "Pekerjaan                             0\n",
              "JenjangKarir                          0\n",
              "PerformancePegawai                    0\n",
              "AsalDaerah                            0\n",
              "HiringPlatform                        0\n",
              "SkorSurveyEngagement                  0\n",
              "SkorKepuasanPegawai                   0\n",
              "JumlahKeikutsertaanProjek             0\n",
              "JumlahKeterlambatanSebulanTerakhir    0\n",
              "JumlahKetidakhadiran                  0\n",
              "NomorHP                               0\n",
              "Email                                 0\n",
              "TingkatPendidikan                     0\n",
              "PernahBekerja                         0\n",
              "TanggalLahir                          0\n",
              "TanggalHiring                         0\n",
              "TanggalPenilaianKaryawan              0\n",
              "dtype: int64"
            ]
          },
          "metadata": {},
          "execution_count": 28
        }
      ]
    },
    {
      "cell_type": "markdown",
      "source": [
        "## Mengganti value yang tidak sesuai"
      ],
      "metadata": {
        "id": "CnEBEhF9cKBf"
      }
    },
    {
      "cell_type": "code",
      "source": [
        "data['PernahBekerja'].value_counts()"
      ],
      "metadata": {
        "id": "HunZlg2Tb9Vp",
        "outputId": "d0ff01c4-41d4-4955-fa36-5324db1b1d9f",
        "colab": {
          "base_uri": "https://localhost:8080/"
        }
      },
      "execution_count": null,
      "outputs": [
        {
          "output_type": "execute_result",
          "data": {
            "text/plain": [
              "1      286\n",
              "yes      1\n",
              "Name: PernahBekerja, dtype: int64"
            ]
          },
          "metadata": {},
          "execution_count": 30
        }
      ]
    },
    {
      "cell_type": "code",
      "source": [
        "data['PernahBekerja'] = data['PernahBekerja'].replace('yes',0)"
      ],
      "metadata": {
        "id": "mmjwtzr_cRkA"
      },
      "execution_count": null,
      "outputs": []
    },
    {
      "cell_type": "code",
      "source": [
        "data['PernahBekerja'].value_counts()"
      ],
      "metadata": {
        "id": "eE9ViKmQdLx6",
        "outputId": "553b03cf-fc81-478e-9aea-7f0e2c003aa7",
        "colab": {
          "base_uri": "https://localhost:8080/"
        }
      },
      "execution_count": null,
      "outputs": [
        {
          "output_type": "execute_result",
          "data": {
            "text/plain": [
              "1    286\n",
              "0      1\n",
              "Name: PernahBekerja, dtype: int64"
            ]
          },
          "metadata": {},
          "execution_count": 32
        }
      ]
    },
    {
      "cell_type": "markdown",
      "source": [
        "## Membuang data yang tidak diperlukan\n"
      ],
      "metadata": {
        "id": "9sSW8rHEdb4g"
      }
    },
    {
      "cell_type": "code",
      "source": [
        "data.nunique()"
      ],
      "metadata": {
        "id": "dRSSBaTddNxJ",
        "outputId": "e6868007-e94a-43e2-eac8-5d92350f9993",
        "colab": {
          "base_uri": "https://localhost:8080/"
        }
      },
      "execution_count": null,
      "outputs": [
        {
          "output_type": "execute_result",
          "data": {
            "text/plain": [
              "Username                              285\n",
              "EnterpriseID                          287\n",
              "StatusPernikahan                        5\n",
              "JenisKelamin                            2\n",
              "StatusKepegawaian                       3\n",
              "Pekerjaan                              14\n",
              "JenjangKarir                            3\n",
              "PerformancePegawai                      5\n",
              "AsalDaerah                              5\n",
              "HiringPlatform                          9\n",
              "SkorSurveyEngagement                    5\n",
              "SkorKepuasanPegawai                     6\n",
              "JumlahKeikutsertaanProjek               9\n",
              "JumlahKeterlambatanSebulanTerakhir      7\n",
              "JumlahKetidakhadiran                   23\n",
              "NomorHP                               287\n",
              "Email                                 287\n",
              "TingkatPendidikan                       3\n",
              "PernahBekerja                           2\n",
              "TanggalLahir                          284\n",
              "TanggalHiring                          97\n",
              "TanggalPenilaianKaryawan              127\n",
              "dtype: int64"
            ]
          },
          "metadata": {},
          "execution_count": 33
        }
      ]
    },
    {
      "cell_type": "markdown",
      "source": [
        "setelah melakukan pengecekan tidak terdapat data kolom yang memiliki 1 nilai uniq value"
      ],
      "metadata": {
        "id": "x4liuolPdr9E"
      }
    },
    {
      "cell_type": "code",
      "source": [],
      "metadata": {
        "id": "9KIri4jGddDf"
      },
      "execution_count": null,
      "outputs": []
    }
  ],
  "metadata": {
    "colab": {
      "provenance": []
    },
    "kernelspec": {
      "display_name": "Python 3",
      "name": "python3"
    }
  },
  "nbformat": 4,
  "nbformat_minor": 0
}