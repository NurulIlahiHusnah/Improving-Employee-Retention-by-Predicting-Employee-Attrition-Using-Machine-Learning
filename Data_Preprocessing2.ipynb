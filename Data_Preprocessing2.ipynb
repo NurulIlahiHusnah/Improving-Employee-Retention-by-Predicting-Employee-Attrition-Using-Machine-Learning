{
  "cells": [
    {
      "cell_type": "markdown",
      "metadata": {
        "id": "view-in-github",
        "colab_type": "text"
      },
      "source": [
        "<a href=\"https://colab.research.google.com/github/NurulIlahiHusnah/Improving-Employee-Retention-by-Predicting-Employee-Attrition-Using-Machine-Learning/blob/master/Data_Preprocessing2.ipynb\" target=\"_parent\"><img src=\"https://colab.research.google.com/assets/colab-badge.svg\" alt=\"Open In Colab\"/></a>"
      ]
    },
    {
      "cell_type": "code",
      "source": [
        "from google.colab import drive\n",
        "drive.mount('/content/drive')"
      ],
      "metadata": {
        "id": "95qd9haBQw6Y",
        "outputId": "cc532d0b-ea26-4a3c-a943-0bd4f8e5bd49",
        "colab": {
          "base_uri": "https://localhost:8080/"
        }
      },
      "execution_count": 8,
      "outputs": [
        {
          "output_type": "stream",
          "name": "stdout",
          "text": [
            "Mounted at /content/drive\n"
          ]
        }
      ]
    },
    {
      "cell_type": "code",
      "source": [
        "# Mengimport library yang aka digunakan\n",
        "import numpy as np\n",
        "import pandas as pd\n",
        "import seaborn as sns\n",
        "import matplotlib.pyplot as plt"
      ],
      "metadata": {
        "id": "Etj55jHAQ0wG"
      },
      "execution_count": 9,
      "outputs": []
    },
    {
      "cell_type": "code",
      "source": [
        "# Mengupload data\n",
        "data = pd.read_excel(\"/content/drive/MyDrive/Colab tugas 5 Mini Project/Improving Employee Retention by Predicting Employee Attrition Using Machine Learning.xlsx\")\n",
        "print()\n",
        "print(data.dtypes)\n",
        "print()\n",
        "print(data.shape)\n",
        "data.head(5)"
      ],
      "metadata": {
        "id": "wzws6QykRE1K",
        "outputId": "dcc3e216-0057-431a-9518-0dac5077e05d",
        "colab": {
          "base_uri": "https://localhost:8080/",
          "height": 977
        }
      },
      "execution_count": 10,
      "outputs": [
        {
          "output_type": "stream",
          "name": "stdout",
          "text": [
            "\n",
            "Username                               object\n",
            "EnterpriseID                            int64\n",
            "StatusPernikahan                       object\n",
            "JenisKelamin                           object\n",
            "StatusKepegawaian                      object\n",
            "Pekerjaan                              object\n",
            "JenjangKarir                           object\n",
            "PerformancePegawai                     object\n",
            "AsalDaerah                             object\n",
            "HiringPlatform                         object\n",
            "SkorSurveyEngagement                    int64\n",
            "SkorKepuasanPegawai                   float64\n",
            "JumlahKeikutsertaanProjek             float64\n",
            "JumlahKeterlambatanSebulanTerakhir    float64\n",
            "JumlahKetidakhadiran                  float64\n",
            "NomorHP                                object\n",
            "Email                                  object\n",
            "TingkatPendidikan                      object\n",
            "PernahBekerja                          object\n",
            "IkutProgramLOP                        float64\n",
            "AlasanResign                           object\n",
            "TanggalLahir                           object\n",
            "TanggalHiring                          object\n",
            "TanggalPenilaianKaryawan               object\n",
            "TanggalResign                          object\n",
            "dtype: object\n",
            "\n",
            "(287, 25)\n"
          ]
        },
        {
          "output_type": "execute_result",
          "data": {
            "text/plain": [
              "            Username  EnterpriseID StatusPernikahan JenisKelamin  \\\n",
              "0  spiritedPorpoise3        111065    Belum_menikah         Pria   \n",
              "1    jealousGelding2        106080    Belum_menikah         Pria   \n",
              "2      pluckyMuesli3        106452          Menikah         Pria   \n",
              "3   stressedTruffle1        106325    Belum_menikah         Pria   \n",
              "4        shyTermite7        111171    Belum_menikah       Wanita   \n",
              "\n",
              "  StatusKepegawaian                      Pekerjaan           JenjangKarir  \\\n",
              "0         Outsource   Software Engineer (Back End)  Freshgraduate_program   \n",
              "1          FullTime                   Data Analyst  Freshgraduate_program   \n",
              "2          FullTime  Software Engineer (Front End)  Freshgraduate_program   \n",
              "3         Outsource  Software Engineer (Front End)  Freshgraduate_program   \n",
              "4          FullTime                Product Manager  Freshgraduate_program   \n",
              "\n",
              "  PerformancePegawai     AsalDaerah     HiringPlatform  ...         NomorHP  \\\n",
              "0       Sangat_bagus  Jakarta Timur  Employee_Referral  ...  +6282232522xxx   \n",
              "1      Sangat_kurang  Jakarta Utara            Website  ...  +6281270745xxx   \n",
              "2              Bagus  Jakarta Timur             Indeed  ...  +6281346215xxx   \n",
              "3              Bagus  Jakarta Pusat           LinkedIn  ...  +6283233846xxx   \n",
              "4              Bagus  Jakarta Timur           LinkedIn  ...  +6287883263xxx   \n",
              "\n",
              "                             Email  TingkatPendidikan  PernahBekerja  \\\n",
              "0   spiritedPorpoise3135@yahoo.com           Magister              1   \n",
              "1     jealousGelding2239@yahoo.com            Sarjana              1   \n",
              "2      pluckyMuesli3961@icloud.com           Magister              1   \n",
              "3  stressedTruffle1406@hotmail.com            Sarjana              1   \n",
              "4         shyTermite7149@gmail.com            Sarjana              1   \n",
              "\n",
              "   IkutProgramLOP   AlasanResign TanggalLahir TanggalHiring  \\\n",
              "0             1.0  masih_bekerja   1972-07-01    2011-01-10   \n",
              "1             1.0  toxic_culture   1984-04-26    2014-01-06   \n",
              "2             1.0      jam_kerja   1974-01-07    2011-01-10   \n",
              "3             0.0  masih_bekerja   1979-11-24     2014-2-17   \n",
              "4             0.0    ganti_karir   1974-11-07    2013-11-11   \n",
              "\n",
              "  TanggalPenilaianKaryawan  TanggalResign  \n",
              "0                2016-2-15              -  \n",
              "1                2020-1-17      2018-6-16  \n",
              "2               2016-01-10      2014-9-24  \n",
              "3               2020-02-04              -  \n",
              "4                2020-1-22     2018-09-06  \n",
              "\n",
              "[5 rows x 25 columns]"
            ],
            "text/html": [
              "\n",
              "\n",
              "  <div id=\"df-b0bca368-bc9b-45bd-9a5f-3bbfe482cc07\">\n",
              "    <div class=\"colab-df-container\">\n",
              "      <div>\n",
              "<style scoped>\n",
              "    .dataframe tbody tr th:only-of-type {\n",
              "        vertical-align: middle;\n",
              "    }\n",
              "\n",
              "    .dataframe tbody tr th {\n",
              "        vertical-align: top;\n",
              "    }\n",
              "\n",
              "    .dataframe thead th {\n",
              "        text-align: right;\n",
              "    }\n",
              "</style>\n",
              "<table border=\"1\" class=\"dataframe\">\n",
              "  <thead>\n",
              "    <tr style=\"text-align: right;\">\n",
              "      <th></th>\n",
              "      <th>Username</th>\n",
              "      <th>EnterpriseID</th>\n",
              "      <th>StatusPernikahan</th>\n",
              "      <th>JenisKelamin</th>\n",
              "      <th>StatusKepegawaian</th>\n",
              "      <th>Pekerjaan</th>\n",
              "      <th>JenjangKarir</th>\n",
              "      <th>PerformancePegawai</th>\n",
              "      <th>AsalDaerah</th>\n",
              "      <th>HiringPlatform</th>\n",
              "      <th>...</th>\n",
              "      <th>NomorHP</th>\n",
              "      <th>Email</th>\n",
              "      <th>TingkatPendidikan</th>\n",
              "      <th>PernahBekerja</th>\n",
              "      <th>IkutProgramLOP</th>\n",
              "      <th>AlasanResign</th>\n",
              "      <th>TanggalLahir</th>\n",
              "      <th>TanggalHiring</th>\n",
              "      <th>TanggalPenilaianKaryawan</th>\n",
              "      <th>TanggalResign</th>\n",
              "    </tr>\n",
              "  </thead>\n",
              "  <tbody>\n",
              "    <tr>\n",
              "      <th>0</th>\n",
              "      <td>spiritedPorpoise3</td>\n",
              "      <td>111065</td>\n",
              "      <td>Belum_menikah</td>\n",
              "      <td>Pria</td>\n",
              "      <td>Outsource</td>\n",
              "      <td>Software Engineer (Back End)</td>\n",
              "      <td>Freshgraduate_program</td>\n",
              "      <td>Sangat_bagus</td>\n",
              "      <td>Jakarta Timur</td>\n",
              "      <td>Employee_Referral</td>\n",
              "      <td>...</td>\n",
              "      <td>+6282232522xxx</td>\n",
              "      <td>spiritedPorpoise3135@yahoo.com</td>\n",
              "      <td>Magister</td>\n",
              "      <td>1</td>\n",
              "      <td>1.0</td>\n",
              "      <td>masih_bekerja</td>\n",
              "      <td>1972-07-01</td>\n",
              "      <td>2011-01-10</td>\n",
              "      <td>2016-2-15</td>\n",
              "      <td>-</td>\n",
              "    </tr>\n",
              "    <tr>\n",
              "      <th>1</th>\n",
              "      <td>jealousGelding2</td>\n",
              "      <td>106080</td>\n",
              "      <td>Belum_menikah</td>\n",
              "      <td>Pria</td>\n",
              "      <td>FullTime</td>\n",
              "      <td>Data Analyst</td>\n",
              "      <td>Freshgraduate_program</td>\n",
              "      <td>Sangat_kurang</td>\n",
              "      <td>Jakarta Utara</td>\n",
              "      <td>Website</td>\n",
              "      <td>...</td>\n",
              "      <td>+6281270745xxx</td>\n",
              "      <td>jealousGelding2239@yahoo.com</td>\n",
              "      <td>Sarjana</td>\n",
              "      <td>1</td>\n",
              "      <td>1.0</td>\n",
              "      <td>toxic_culture</td>\n",
              "      <td>1984-04-26</td>\n",
              "      <td>2014-01-06</td>\n",
              "      <td>2020-1-17</td>\n",
              "      <td>2018-6-16</td>\n",
              "    </tr>\n",
              "    <tr>\n",
              "      <th>2</th>\n",
              "      <td>pluckyMuesli3</td>\n",
              "      <td>106452</td>\n",
              "      <td>Menikah</td>\n",
              "      <td>Pria</td>\n",
              "      <td>FullTime</td>\n",
              "      <td>Software Engineer (Front End)</td>\n",
              "      <td>Freshgraduate_program</td>\n",
              "      <td>Bagus</td>\n",
              "      <td>Jakarta Timur</td>\n",
              "      <td>Indeed</td>\n",
              "      <td>...</td>\n",
              "      <td>+6281346215xxx</td>\n",
              "      <td>pluckyMuesli3961@icloud.com</td>\n",
              "      <td>Magister</td>\n",
              "      <td>1</td>\n",
              "      <td>1.0</td>\n",
              "      <td>jam_kerja</td>\n",
              "      <td>1974-01-07</td>\n",
              "      <td>2011-01-10</td>\n",
              "      <td>2016-01-10</td>\n",
              "      <td>2014-9-24</td>\n",
              "    </tr>\n",
              "    <tr>\n",
              "      <th>3</th>\n",
              "      <td>stressedTruffle1</td>\n",
              "      <td>106325</td>\n",
              "      <td>Belum_menikah</td>\n",
              "      <td>Pria</td>\n",
              "      <td>Outsource</td>\n",
              "      <td>Software Engineer (Front End)</td>\n",
              "      <td>Freshgraduate_program</td>\n",
              "      <td>Bagus</td>\n",
              "      <td>Jakarta Pusat</td>\n",
              "      <td>LinkedIn</td>\n",
              "      <td>...</td>\n",
              "      <td>+6283233846xxx</td>\n",
              "      <td>stressedTruffle1406@hotmail.com</td>\n",
              "      <td>Sarjana</td>\n",
              "      <td>1</td>\n",
              "      <td>0.0</td>\n",
              "      <td>masih_bekerja</td>\n",
              "      <td>1979-11-24</td>\n",
              "      <td>2014-2-17</td>\n",
              "      <td>2020-02-04</td>\n",
              "      <td>-</td>\n",
              "    </tr>\n",
              "    <tr>\n",
              "      <th>4</th>\n",
              "      <td>shyTermite7</td>\n",
              "      <td>111171</td>\n",
              "      <td>Belum_menikah</td>\n",
              "      <td>Wanita</td>\n",
              "      <td>FullTime</td>\n",
              "      <td>Product Manager</td>\n",
              "      <td>Freshgraduate_program</td>\n",
              "      <td>Bagus</td>\n",
              "      <td>Jakarta Timur</td>\n",
              "      <td>LinkedIn</td>\n",
              "      <td>...</td>\n",
              "      <td>+6287883263xxx</td>\n",
              "      <td>shyTermite7149@gmail.com</td>\n",
              "      <td>Sarjana</td>\n",
              "      <td>1</td>\n",
              "      <td>0.0</td>\n",
              "      <td>ganti_karir</td>\n",
              "      <td>1974-11-07</td>\n",
              "      <td>2013-11-11</td>\n",
              "      <td>2020-1-22</td>\n",
              "      <td>2018-09-06</td>\n",
              "    </tr>\n",
              "  </tbody>\n",
              "</table>\n",
              "<p>5 rows × 25 columns</p>\n",
              "</div>\n",
              "      <button class=\"colab-df-convert\" onclick=\"convertToInteractive('df-b0bca368-bc9b-45bd-9a5f-3bbfe482cc07')\"\n",
              "              title=\"Convert this dataframe to an interactive table.\"\n",
              "              style=\"display:none;\">\n",
              "\n",
              "  <svg xmlns=\"http://www.w3.org/2000/svg\" height=\"24px\"viewBox=\"0 0 24 24\"\n",
              "       width=\"24px\">\n",
              "    <path d=\"M0 0h24v24H0V0z\" fill=\"none\"/>\n",
              "    <path d=\"M18.56 5.44l.94 2.06.94-2.06 2.06-.94-2.06-.94-.94-2.06-.94 2.06-2.06.94zm-11 1L8.5 8.5l.94-2.06 2.06-.94-2.06-.94L8.5 2.5l-.94 2.06-2.06.94zm10 10l.94 2.06.94-2.06 2.06-.94-2.06-.94-.94-2.06-.94 2.06-2.06.94z\"/><path d=\"M17.41 7.96l-1.37-1.37c-.4-.4-.92-.59-1.43-.59-.52 0-1.04.2-1.43.59L10.3 9.45l-7.72 7.72c-.78.78-.78 2.05 0 2.83L4 21.41c.39.39.9.59 1.41.59.51 0 1.02-.2 1.41-.59l7.78-7.78 2.81-2.81c.8-.78.8-2.07 0-2.86zM5.41 20L4 18.59l7.72-7.72 1.47 1.35L5.41 20z\"/>\n",
              "  </svg>\n",
              "      </button>\n",
              "\n",
              "\n",
              "\n",
              "    <div id=\"df-933eb476-b132-4497-8615-db3cc6eaf799\">\n",
              "      <button class=\"colab-df-quickchart\" onclick=\"quickchart('df-933eb476-b132-4497-8615-db3cc6eaf799')\"\n",
              "              title=\"Suggest charts.\"\n",
              "              style=\"display:none;\">\n",
              "\n",
              "<svg xmlns=\"http://www.w3.org/2000/svg\" height=\"24px\"viewBox=\"0 0 24 24\"\n",
              "     width=\"24px\">\n",
              "    <g>\n",
              "        <path d=\"M19 3H5c-1.1 0-2 .9-2 2v14c0 1.1.9 2 2 2h14c1.1 0 2-.9 2-2V5c0-1.1-.9-2-2-2zM9 17H7v-7h2v7zm4 0h-2V7h2v10zm4 0h-2v-4h2v4z\"/>\n",
              "    </g>\n",
              "</svg>\n",
              "      </button>\n",
              "    </div>\n",
              "\n",
              "<style>\n",
              "  .colab-df-quickchart {\n",
              "    background-color: #E8F0FE;\n",
              "    border: none;\n",
              "    border-radius: 50%;\n",
              "    cursor: pointer;\n",
              "    display: none;\n",
              "    fill: #1967D2;\n",
              "    height: 32px;\n",
              "    padding: 0 0 0 0;\n",
              "    width: 32px;\n",
              "  }\n",
              "\n",
              "  .colab-df-quickchart:hover {\n",
              "    background-color: #E2EBFA;\n",
              "    box-shadow: 0px 1px 2px rgba(60, 64, 67, 0.3), 0px 1px 3px 1px rgba(60, 64, 67, 0.15);\n",
              "    fill: #174EA6;\n",
              "  }\n",
              "\n",
              "  [theme=dark] .colab-df-quickchart {\n",
              "    background-color: #3B4455;\n",
              "    fill: #D2E3FC;\n",
              "  }\n",
              "\n",
              "  [theme=dark] .colab-df-quickchart:hover {\n",
              "    background-color: #434B5C;\n",
              "    box-shadow: 0px 1px 3px 1px rgba(0, 0, 0, 0.15);\n",
              "    filter: drop-shadow(0px 1px 2px rgba(0, 0, 0, 0.3));\n",
              "    fill: #FFFFFF;\n",
              "  }\n",
              "</style>\n",
              "\n",
              "    <script>\n",
              "      async function quickchart(key) {\n",
              "        const containerElement = document.querySelector('#' + key);\n",
              "        const charts = await google.colab.kernel.invokeFunction(\n",
              "            'suggestCharts', [key], {});\n",
              "      }\n",
              "    </script>\n",
              "\n",
              "      <script>\n",
              "\n",
              "function displayQuickchartButton(domScope) {\n",
              "  let quickchartButtonEl =\n",
              "    domScope.querySelector('#df-933eb476-b132-4497-8615-db3cc6eaf799 button.colab-df-quickchart');\n",
              "  quickchartButtonEl.style.display =\n",
              "    google.colab.kernel.accessAllowed ? 'block' : 'none';\n",
              "}\n",
              "\n",
              "        displayQuickchartButton(document);\n",
              "      </script>\n",
              "      <style>\n",
              "    .colab-df-container {\n",
              "      display:flex;\n",
              "      flex-wrap:wrap;\n",
              "      gap: 12px;\n",
              "    }\n",
              "\n",
              "    .colab-df-convert {\n",
              "      background-color: #E8F0FE;\n",
              "      border: none;\n",
              "      border-radius: 50%;\n",
              "      cursor: pointer;\n",
              "      display: none;\n",
              "      fill: #1967D2;\n",
              "      height: 32px;\n",
              "      padding: 0 0 0 0;\n",
              "      width: 32px;\n",
              "    }\n",
              "\n",
              "    .colab-df-convert:hover {\n",
              "      background-color: #E2EBFA;\n",
              "      box-shadow: 0px 1px 2px rgba(60, 64, 67, 0.3), 0px 1px 3px 1px rgba(60, 64, 67, 0.15);\n",
              "      fill: #174EA6;\n",
              "    }\n",
              "\n",
              "    [theme=dark] .colab-df-convert {\n",
              "      background-color: #3B4455;\n",
              "      fill: #D2E3FC;\n",
              "    }\n",
              "\n",
              "    [theme=dark] .colab-df-convert:hover {\n",
              "      background-color: #434B5C;\n",
              "      box-shadow: 0px 1px 3px 1px rgba(0, 0, 0, 0.15);\n",
              "      filter: drop-shadow(0px 1px 2px rgba(0, 0, 0, 0.3));\n",
              "      fill: #FFFFFF;\n",
              "    }\n",
              "  </style>\n",
              "\n",
              "      <script>\n",
              "        const buttonEl =\n",
              "          document.querySelector('#df-b0bca368-bc9b-45bd-9a5f-3bbfe482cc07 button.colab-df-convert');\n",
              "        buttonEl.style.display =\n",
              "          google.colab.kernel.accessAllowed ? 'block' : 'none';\n",
              "\n",
              "        async function convertToInteractive(key) {\n",
              "          const element = document.querySelector('#df-b0bca368-bc9b-45bd-9a5f-3bbfe482cc07');\n",
              "          const dataTable =\n",
              "            await google.colab.kernel.invokeFunction('convertToInteractive',\n",
              "                                                     [key], {});\n",
              "          if (!dataTable) return;\n",
              "\n",
              "          const docLinkHtml = 'Like what you see? Visit the ' +\n",
              "            '<a target=\"_blank\" href=https://colab.research.google.com/notebooks/data_table.ipynb>data table notebook</a>'\n",
              "            + ' to learn more about interactive tables.';\n",
              "          element.innerHTML = '';\n",
              "          dataTable['output_type'] = 'display_data';\n",
              "          await google.colab.output.renderOutput(dataTable, element);\n",
              "          const docLink = document.createElement('div');\n",
              "          docLink.innerHTML = docLinkHtml;\n",
              "          element.appendChild(docLink);\n",
              "        }\n",
              "      </script>\n",
              "    </div>\n",
              "  </div>\n"
            ]
          },
          "metadata": {},
          "execution_count": 10
        }
      ]
    },
    {
      "cell_type": "markdown",
      "source": [
        "- Terdapat 287 baris dan 25 kolom,\n",
        "- Terdapat beberapan type data yang kurang sesuai\n",
        "- terdapat beberapa kolom yang memiliki missing value"
      ],
      "metadata": {
        "id": "Zee9zgW3R_e5"
      }
    },
    {
      "cell_type": "code",
      "source": [
        "# melihat jumlah missning value\n",
        "data_missing = data.isnull().sum()\n",
        "missing_value = data_missing [data_missing>0]\n",
        "missing_value"
      ],
      "metadata": {
        "id": "meuznntdRZFG",
        "outputId": "5fe1895b-94b5-4b02-e196-3a54dda54aa3",
        "colab": {
          "base_uri": "https://localhost:8080/"
        }
      },
      "execution_count": 11,
      "outputs": [
        {
          "output_type": "execute_result",
          "data": {
            "text/plain": [
              "SkorKepuasanPegawai                     5\n",
              "JumlahKeikutsertaanProjek               3\n",
              "JumlahKeterlambatanSebulanTerakhir      1\n",
              "JumlahKetidakhadiran                    6\n",
              "IkutProgramLOP                        258\n",
              "AlasanResign                           66\n",
              "dtype: int64"
            ]
          },
          "metadata": {},
          "execution_count": 11
        }
      ]
    },
    {
      "cell_type": "markdown",
      "source": [
        "## Mengatasi data null"
      ],
      "metadata": {
        "id": "4pmQLHVUSEiK"
      }
    },
    {
      "cell_type": "code",
      "source": [
        "# melakukan drop pada kolom yang memiliki missing value diatas 10%\n",
        "data = data.drop(columns=['IkutProgramLOP','AlasanResign'])\n",
        "\n",
        "#melakukan imputasi pada kolom yang memiliki missing value dibawah 10%\n",
        "median = data_missing.median()\n",
        "data = data.fillna(median)\n",
        "\n",
        "# melakukan pengecekan missing value\n",
        "data.isnull().sum()"
      ],
      "metadata": {
        "id": "3L1Rs7UTR_GC",
        "outputId": "f1fc4cb2-157e-4f06-98af-209d90316db9",
        "colab": {
          "base_uri": "https://localhost:8080/"
        }
      },
      "execution_count": 12,
      "outputs": [
        {
          "output_type": "execute_result",
          "data": {
            "text/plain": [
              "Username                              0\n",
              "EnterpriseID                          0\n",
              "StatusPernikahan                      0\n",
              "JenisKelamin                          0\n",
              "StatusKepegawaian                     0\n",
              "Pekerjaan                             0\n",
              "JenjangKarir                          0\n",
              "PerformancePegawai                    0\n",
              "AsalDaerah                            0\n",
              "HiringPlatform                        0\n",
              "SkorSurveyEngagement                  0\n",
              "SkorKepuasanPegawai                   0\n",
              "JumlahKeikutsertaanProjek             0\n",
              "JumlahKeterlambatanSebulanTerakhir    0\n",
              "JumlahKetidakhadiran                  0\n",
              "NomorHP                               0\n",
              "Email                                 0\n",
              "TingkatPendidikan                     0\n",
              "PernahBekerja                         0\n",
              "TanggalLahir                          0\n",
              "TanggalHiring                         0\n",
              "TanggalPenilaianKaryawan              0\n",
              "TanggalResign                         0\n",
              "dtype: int64"
            ]
          },
          "metadata": {},
          "execution_count": 12
        }
      ]
    },
    {
      "cell_type": "markdown",
      "source": [
        "Setelah menghandle data yang missing terdapat kolom yang masih perlu diperhatikan. Untuk kolom tanggal yang memiliki type data object perlu di ubah ke type data date karena terdapat beberapa kolom yg memiliki missing value namun tidak terdetek ketika melakukan imputasi data sebelumnya dikarenakan type data object dimana ' - ' masih memiliki nilia, padahal ini tidak memiliki arti (kosong)"
      ],
      "metadata": {
        "id": "LNoHIhJOZWqI"
      }
    },
    {
      "cell_type": "code",
      "source": [
        "# merubah type data tanggal\n",
        "data['TanggalLahir'] = pd.to_datetime(data['TanggalLahir'])\n",
        "data['TanggalHiring'] = pd.to_datetime(data['TanggalHiring'])\n",
        "data['TanggalPenilaianKaryawan'] = pd.to_datetime(data['TanggalPenilaianKaryawan'])\n",
        "data['TanggalResign'] = pd.to_datetime(data['TanggalResign'], errors='coerce')\n"
      ],
      "metadata": {
        "id": "xkM8gVMlTqaQ"
      },
      "execution_count": 13,
      "outputs": []
    },
    {
      "cell_type": "markdown",
      "source": [
        "## Mengganti value yang tidak sesuai"
      ],
      "metadata": {
        "id": "CnEBEhF9cKBf"
      }
    },
    {
      "cell_type": "code",
      "source": [
        "print(data['PernahBekerja'].value_counts())\n",
        "data['PernahBekerja'] = data['PernahBekerja'].replace('yes',0)\n",
        "print(data['PernahBekerja'].value_counts())"
      ],
      "metadata": {
        "id": "HunZlg2Tb9Vp",
        "outputId": "7629678b-9455-4ade-c493-987201cd0237",
        "colab": {
          "base_uri": "https://localhost:8080/"
        }
      },
      "execution_count": 14,
      "outputs": [
        {
          "output_type": "stream",
          "name": "stdout",
          "text": [
            "1      286\n",
            "yes      1\n",
            "Name: PernahBekerja, dtype: int64\n",
            "1    286\n",
            "0      1\n",
            "Name: PernahBekerja, dtype: int64\n"
          ]
        }
      ]
    },
    {
      "cell_type": "markdown",
      "source": [
        "## Membuang data yang tidak diperlukan\n"
      ],
      "metadata": {
        "id": "9sSW8rHEdb4g"
      }
    },
    {
      "cell_type": "code",
      "source": [
        "data.nunique()"
      ],
      "metadata": {
        "id": "dRSSBaTddNxJ",
        "outputId": "b54b7ae4-d5a6-4136-da02-a8581ceb1bfd",
        "colab": {
          "base_uri": "https://localhost:8080/"
        }
      },
      "execution_count": 15,
      "outputs": [
        {
          "output_type": "execute_result",
          "data": {
            "text/plain": [
              "Username                              285\n",
              "EnterpriseID                          287\n",
              "StatusPernikahan                        5\n",
              "JenisKelamin                            2\n",
              "StatusKepegawaian                       3\n",
              "Pekerjaan                              14\n",
              "JenjangKarir                            3\n",
              "PerformancePegawai                      5\n",
              "AsalDaerah                              5\n",
              "HiringPlatform                          9\n",
              "SkorSurveyEngagement                    5\n",
              "SkorKepuasanPegawai                     6\n",
              "JumlahKeikutsertaanProjek               9\n",
              "JumlahKeterlambatanSebulanTerakhir      7\n",
              "JumlahKetidakhadiran                   23\n",
              "NomorHP                               287\n",
              "Email                                 287\n",
              "TingkatPendidikan                       3\n",
              "PernahBekerja                           2\n",
              "TanggalLahir                          284\n",
              "TanggalHiring                          97\n",
              "TanggalPenilaianKaryawan              127\n",
              "TanggalResign                          52\n",
              "dtype: int64"
            ]
          },
          "metadata": {},
          "execution_count": 15
        }
      ]
    },
    {
      "cell_type": "markdown",
      "source": [
        "setelah melakukan pengecekan tidak terdapat data kolom yang memiliki 1 nilai uniq value"
      ],
      "metadata": {
        "id": "x4liuolPdr9E"
      }
    },
    {
      "cell_type": "code",
      "source": [],
      "metadata": {
        "id": "9KIri4jGddDf"
      },
      "execution_count": 15,
      "outputs": []
    },
    {
      "cell_type": "markdown",
      "source": [
        "### Buatlah dua tabel agregat yang menghitung jumlah karyawan yang masuk dan keluar berdasarkan tahun hiring dan tahun resign\n"
      ],
      "metadata": {
        "id": "IExkCOI-UaS3"
      }
    },
    {
      "cell_type": "code",
      "source": [
        "# melihat tanggal mulainya Hiring\n",
        "awal = data['TanggalHiring'].min()\n",
        "print('Tanggal Mulai Hiring: ',awal)\n",
        "\n",
        "akhir =data['TanggalHiring'].max()\n",
        "print('Tanggal Akhir Hiring: ',akhir)"
      ],
      "metadata": {
        "colab": {
          "base_uri": "https://localhost:8080/"
        },
        "id": "97rEN2O7UeNH",
        "outputId": "9d4d7729-5955-449c-f7fb-c7bc14039574"
      },
      "execution_count": 16,
      "outputs": [
        {
          "output_type": "stream",
          "name": "stdout",
          "text": [
            "Tanggal Mulai Hiring:  2006-01-09 00:00:00\n",
            "Tanggal Akhir Hiring:  2018-07-09 00:00:00\n"
          ]
        }
      ]
    },
    {
      "cell_type": "code",
      "source": [
        "# melihat tanggal mulainya Resign\n",
        "awal = data['TanggalResign'].min()\n",
        "print('Tanggal Mulai Resign: ',awal)\n",
        "\n",
        "akhir =data['TanggalResign'].max()\n",
        "print('Tanggal Akhir Resign: ',akhir)"
      ],
      "metadata": {
        "colab": {
          "base_uri": "https://localhost:8080/"
        },
        "id": "8uUlcv5sUeTQ",
        "outputId": "d3590ba3-196a-43ed-f04b-98edb85e13d2"
      },
      "execution_count": 17,
      "outputs": [
        {
          "output_type": "stream",
          "name": "stdout",
          "text": [
            "Tanggal Mulai Resign:  2013-05-30 00:00:00\n",
            "Tanggal Akhir Resign:  2020-09-27 00:00:00\n"
          ]
        }
      ]
    },
    {
      "cell_type": "code",
      "source": [
        "# menampilan detail jumlah karyawan resign berdasatkan tanggal\n",
        "print(data.groupby('TanggalResign').agg({'EnterpriseID' : 'count'}).head(5))"
      ],
      "metadata": {
        "colab": {
          "base_uri": "https://localhost:8080/"
        },
        "id": "i5U1tBs-Ueah",
        "outputId": "a9d938df-2c40-447a-c399-a6b5372cb120"
      },
      "execution_count": 18,
      "outputs": [
        {
          "output_type": "stream",
          "name": "stdout",
          "text": [
            "               EnterpriseID\n",
            "TanggalResign              \n",
            "2013-05-30                4\n",
            "2013-09-26                1\n",
            "2014-04-07                1\n",
            "2014-08-19                9\n",
            "2014-09-24                2\n"
          ]
        }
      ]
    },
    {
      "cell_type": "code",
      "source": [
        "# menampilan detail jumlah karyawan Hiring berdasatkan tanggal\n",
        "print(data.groupby('TanggalHiring').agg({'EnterpriseID' : 'count'}))"
      ],
      "metadata": {
        "colab": {
          "base_uri": "https://localhost:8080/"
        },
        "id": "CqvTgsFmY5OF",
        "outputId": "efe038dc-df82-4a30-cdc4-2ba566aec4fe"
      },
      "execution_count": 19,
      "outputs": [
        {
          "output_type": "stream",
          "name": "stdout",
          "text": [
            "               EnterpriseID\n",
            "TanggalHiring              \n",
            "2006-01-09                1\n",
            "2007-06-25                1\n",
            "2007-11-05                1\n",
            "2008-01-07                1\n",
            "2008-10-27                1\n",
            "...                     ...\n",
            "2017-01-07                1\n",
            "2017-02-10                1\n",
            "2017-02-15                1\n",
            "2017-04-20                2\n",
            "2018-07-09                1\n",
            "\n",
            "[97 rows x 1 columns]\n"
          ]
        }
      ]
    },
    {
      "cell_type": "code",
      "source": [
        "# Menghitung jumlah karyawan yang masuk berdasarkan tahun hiring\n",
        "jumlah_masuk = data.groupby(data['TanggalHiring'].dt.year)['EnterpriseID'].count()\n",
        "\n",
        "# Menghitung jumlah karyawan yang keluar berdasarkan tahun resign\n",
        "jumlah_keluar = data.groupby(data['TanggalResign'].dt.year)['EnterpriseID'].count()\n",
        "\n",
        "# Menampilkan tabel agregat jumlah masuk\n",
        "print(\"Tabel Agregat Jumlah Karyawan Masuk:\")\n",
        "print(jumlah_masuk)\n",
        "\n",
        "# Menampilkan tabel agregat jumlah keluar\n",
        "print(\"\\nTabel Agregat Jumlah Karyawan Keluar:\")\n",
        "print(jumlah_keluar)"
      ],
      "metadata": {
        "colab": {
          "base_uri": "https://localhost:8080/"
        },
        "id": "piwgyQ02Y5Du",
        "outputId": "1fcdbcee-068b-4384-ba6e-32ce19c2c11b"
      },
      "execution_count": 20,
      "outputs": [
        {
          "output_type": "stream",
          "name": "stdout",
          "text": [
            "Tabel Agregat Jumlah Karyawan Masuk:\n",
            "TanggalHiring\n",
            "2006     1\n",
            "2007     2\n",
            "2008     2\n",
            "2009     7\n",
            "2010     8\n",
            "2011    76\n",
            "2012    41\n",
            "2013    43\n",
            "2014    56\n",
            "2015    31\n",
            "2016    14\n",
            "2017     5\n",
            "2018     1\n",
            "Name: EnterpriseID, dtype: int64\n",
            "\n",
            "Tabel Agregat Jumlah Karyawan Keluar:\n",
            "TanggalResign\n",
            "2013.0     5\n",
            "2014.0    12\n",
            "2015.0     8\n",
            "2016.0     8\n",
            "2017.0    19\n",
            "2018.0    26\n",
            "2019.0     5\n",
            "2020.0     6\n",
            "Name: EnterpriseID, dtype: int64\n"
          ]
        }
      ]
    },
    {
      "cell_type": "code",
      "source": [],
      "metadata": {
        "id": "v-5ZACenmQ59"
      },
      "execution_count": 20,
      "outputs": []
    },
    {
      "cell_type": "markdown",
      "source": [
        "### Join dua tabel tersebut berdasarkan tahun resign dan hiring agar menjadi satu tabel utuh"
      ],
      "metadata": {
        "id": "x9mptE6FfZ8M"
      }
    },
    {
      "cell_type": "code",
      "source": [
        "data_gabung = jumlah_masuk.to_frame(name='Jumlah Masuk').join(jumlah_keluar.to_frame(name= 'Jumlah Keluar'), how='outer')\n",
        "print(data_gabung)"
      ],
      "metadata": {
        "colab": {
          "base_uri": "https://localhost:8080/"
        },
        "id": "2N3AgtWsfsgq",
        "outputId": "b4fb83e7-71a1-4ea2-8950-1ce95cff1370"
      },
      "execution_count": 21,
      "outputs": [
        {
          "output_type": "stream",
          "name": "stdout",
          "text": [
            "        Jumlah Masuk  Jumlah Keluar\n",
            "2006.0           1.0            NaN\n",
            "2007.0           2.0            NaN\n",
            "2008.0           2.0            NaN\n",
            "2009.0           7.0            NaN\n",
            "2010.0           8.0            NaN\n",
            "2011.0          76.0            NaN\n",
            "2012.0          41.0            NaN\n",
            "2013.0          43.0            5.0\n",
            "2014.0          56.0           12.0\n",
            "2015.0          31.0            8.0\n",
            "2016.0          14.0            8.0\n",
            "2017.0           5.0           19.0\n",
            "2018.0           1.0           26.0\n",
            "2019.0           NaN            5.0\n",
            "2020.0           NaN            6.0\n"
          ]
        }
      ]
    },
    {
      "cell_type": "markdown",
      "source": [
        "### Lakukan imputation pada data tahun yang kosong sesuai urutan"
      ],
      "metadata": {
        "id": "Cj9WDTQqgymU"
      }
    },
    {
      "cell_type": "code",
      "source": [
        "data_gabung=data_gabung.fillna(0)"
      ],
      "metadata": {
        "id": "H_0HRw9vfsde"
      },
      "execution_count": 22,
      "outputs": []
    },
    {
      "cell_type": "markdown",
      "source": [
        "### Hitung total karyawan yang resign, yang masih bertahan, dan perubahannya pada setiap tahunnya dari tabel hasil join pada tahap dua (2)"
      ],
      "metadata": {
        "id": "QJWfP-aAhbjb"
      }
    },
    {
      "cell_type": "code",
      "source": [
        "data_gabung['Jumlah karyawan bertahan'] =data_gabung['Jumlah Masuk'] - data_gabung['Jumlah Keluar']\n",
        "print(data_gabung)"
      ],
      "metadata": {
        "colab": {
          "base_uri": "https://localhost:8080/"
        },
        "id": "8j0ngjh8haId",
        "outputId": "4c823dc6-ebfd-434e-83a2-a66aabc1ffb0"
      },
      "execution_count": 23,
      "outputs": [
        {
          "output_type": "stream",
          "name": "stdout",
          "text": [
            "        Jumlah Masuk  Jumlah Keluar  Jumlah karyawan bertahan\n",
            "2006.0           1.0            0.0                       1.0\n",
            "2007.0           2.0            0.0                       2.0\n",
            "2008.0           2.0            0.0                       2.0\n",
            "2009.0           7.0            0.0                       7.0\n",
            "2010.0           8.0            0.0                       8.0\n",
            "2011.0          76.0            0.0                      76.0\n",
            "2012.0          41.0            0.0                      41.0\n",
            "2013.0          43.0            5.0                      38.0\n",
            "2014.0          56.0           12.0                      44.0\n",
            "2015.0          31.0            8.0                      23.0\n",
            "2016.0          14.0            8.0                       6.0\n",
            "2017.0           5.0           19.0                     -14.0\n",
            "2018.0           1.0           26.0                     -25.0\n",
            "2019.0           0.0            5.0                      -5.0\n",
            "2020.0           0.0            6.0                      -6.0\n"
          ]
        }
      ]
    },
    {
      "cell_type": "markdown",
      "source": [
        "### Buatlah plot yang menunjukan perubahan kenaikan dan penurunan di setiap tahun yang ada"
      ],
      "metadata": {
        "id": "Nbaa_IaCj446"
      }
    },
    {
      "cell_type": "code",
      "source": [
        "tahun = [2006, 2007, 2008, 2009, 2010, 2011, 2012, 2013, 2014, 2015, 2016, 2017, 2018, 2019, 2020]\n",
        "data_gabung = pd.DataFrame(data_gabung, index=tahun)\n",
        "data_gabung.index.name ='Tahun'\n",
        "data_gabung"
      ],
      "metadata": {
        "colab": {
          "base_uri": "https://localhost:8080/",
          "height": 551
        },
        "id": "kWLNefntssb5",
        "outputId": "addb8496-ade2-4cca-a43d-c764f4e51af7"
      },
      "execution_count": 24,
      "outputs": [
        {
          "output_type": "execute_result",
          "data": {
            "text/plain": [
              "       Jumlah Masuk  Jumlah Keluar  Jumlah karyawan bertahan\n",
              "Tahun                                                       \n",
              "2006            1.0            0.0                       1.0\n",
              "2007            2.0            0.0                       2.0\n",
              "2008            2.0            0.0                       2.0\n",
              "2009            7.0            0.0                       7.0\n",
              "2010            8.0            0.0                       8.0\n",
              "2011           76.0            0.0                      76.0\n",
              "2012           41.0            0.0                      41.0\n",
              "2013           43.0            5.0                      38.0\n",
              "2014           56.0           12.0                      44.0\n",
              "2015           31.0            8.0                      23.0\n",
              "2016           14.0            8.0                       6.0\n",
              "2017            5.0           19.0                     -14.0\n",
              "2018            1.0           26.0                     -25.0\n",
              "2019            0.0            5.0                      -5.0\n",
              "2020            0.0            6.0                      -6.0"
            ],
            "text/html": [
              "\n",
              "\n",
              "  <div id=\"df-04cec3db-067f-44d0-9b46-888ea9cb3745\">\n",
              "    <div class=\"colab-df-container\">\n",
              "      <div>\n",
              "<style scoped>\n",
              "    .dataframe tbody tr th:only-of-type {\n",
              "        vertical-align: middle;\n",
              "    }\n",
              "\n",
              "    .dataframe tbody tr th {\n",
              "        vertical-align: top;\n",
              "    }\n",
              "\n",
              "    .dataframe thead th {\n",
              "        text-align: right;\n",
              "    }\n",
              "</style>\n",
              "<table border=\"1\" class=\"dataframe\">\n",
              "  <thead>\n",
              "    <tr style=\"text-align: right;\">\n",
              "      <th></th>\n",
              "      <th>Jumlah Masuk</th>\n",
              "      <th>Jumlah Keluar</th>\n",
              "      <th>Jumlah karyawan bertahan</th>\n",
              "    </tr>\n",
              "    <tr>\n",
              "      <th>Tahun</th>\n",
              "      <th></th>\n",
              "      <th></th>\n",
              "      <th></th>\n",
              "    </tr>\n",
              "  </thead>\n",
              "  <tbody>\n",
              "    <tr>\n",
              "      <th>2006</th>\n",
              "      <td>1.0</td>\n",
              "      <td>0.0</td>\n",
              "      <td>1.0</td>\n",
              "    </tr>\n",
              "    <tr>\n",
              "      <th>2007</th>\n",
              "      <td>2.0</td>\n",
              "      <td>0.0</td>\n",
              "      <td>2.0</td>\n",
              "    </tr>\n",
              "    <tr>\n",
              "      <th>2008</th>\n",
              "      <td>2.0</td>\n",
              "      <td>0.0</td>\n",
              "      <td>2.0</td>\n",
              "    </tr>\n",
              "    <tr>\n",
              "      <th>2009</th>\n",
              "      <td>7.0</td>\n",
              "      <td>0.0</td>\n",
              "      <td>7.0</td>\n",
              "    </tr>\n",
              "    <tr>\n",
              "      <th>2010</th>\n",
              "      <td>8.0</td>\n",
              "      <td>0.0</td>\n",
              "      <td>8.0</td>\n",
              "    </tr>\n",
              "    <tr>\n",
              "      <th>2011</th>\n",
              "      <td>76.0</td>\n",
              "      <td>0.0</td>\n",
              "      <td>76.0</td>\n",
              "    </tr>\n",
              "    <tr>\n",
              "      <th>2012</th>\n",
              "      <td>41.0</td>\n",
              "      <td>0.0</td>\n",
              "      <td>41.0</td>\n",
              "    </tr>\n",
              "    <tr>\n",
              "      <th>2013</th>\n",
              "      <td>43.0</td>\n",
              "      <td>5.0</td>\n",
              "      <td>38.0</td>\n",
              "    </tr>\n",
              "    <tr>\n",
              "      <th>2014</th>\n",
              "      <td>56.0</td>\n",
              "      <td>12.0</td>\n",
              "      <td>44.0</td>\n",
              "    </tr>\n",
              "    <tr>\n",
              "      <th>2015</th>\n",
              "      <td>31.0</td>\n",
              "      <td>8.0</td>\n",
              "      <td>23.0</td>\n",
              "    </tr>\n",
              "    <tr>\n",
              "      <th>2016</th>\n",
              "      <td>14.0</td>\n",
              "      <td>8.0</td>\n",
              "      <td>6.0</td>\n",
              "    </tr>\n",
              "    <tr>\n",
              "      <th>2017</th>\n",
              "      <td>5.0</td>\n",
              "      <td>19.0</td>\n",
              "      <td>-14.0</td>\n",
              "    </tr>\n",
              "    <tr>\n",
              "      <th>2018</th>\n",
              "      <td>1.0</td>\n",
              "      <td>26.0</td>\n",
              "      <td>-25.0</td>\n",
              "    </tr>\n",
              "    <tr>\n",
              "      <th>2019</th>\n",
              "      <td>0.0</td>\n",
              "      <td>5.0</td>\n",
              "      <td>-5.0</td>\n",
              "    </tr>\n",
              "    <tr>\n",
              "      <th>2020</th>\n",
              "      <td>0.0</td>\n",
              "      <td>6.0</td>\n",
              "      <td>-6.0</td>\n",
              "    </tr>\n",
              "  </tbody>\n",
              "</table>\n",
              "</div>\n",
              "      <button class=\"colab-df-convert\" onclick=\"convertToInteractive('df-04cec3db-067f-44d0-9b46-888ea9cb3745')\"\n",
              "              title=\"Convert this dataframe to an interactive table.\"\n",
              "              style=\"display:none;\">\n",
              "\n",
              "  <svg xmlns=\"http://www.w3.org/2000/svg\" height=\"24px\"viewBox=\"0 0 24 24\"\n",
              "       width=\"24px\">\n",
              "    <path d=\"M0 0h24v24H0V0z\" fill=\"none\"/>\n",
              "    <path d=\"M18.56 5.44l.94 2.06.94-2.06 2.06-.94-2.06-.94-.94-2.06-.94 2.06-2.06.94zm-11 1L8.5 8.5l.94-2.06 2.06-.94-2.06-.94L8.5 2.5l-.94 2.06-2.06.94zm10 10l.94 2.06.94-2.06 2.06-.94-2.06-.94-.94-2.06-.94 2.06-2.06.94z\"/><path d=\"M17.41 7.96l-1.37-1.37c-.4-.4-.92-.59-1.43-.59-.52 0-1.04.2-1.43.59L10.3 9.45l-7.72 7.72c-.78.78-.78 2.05 0 2.83L4 21.41c.39.39.9.59 1.41.59.51 0 1.02-.2 1.41-.59l7.78-7.78 2.81-2.81c.8-.78.8-2.07 0-2.86zM5.41 20L4 18.59l7.72-7.72 1.47 1.35L5.41 20z\"/>\n",
              "  </svg>\n",
              "      </button>\n",
              "\n",
              "\n",
              "\n",
              "    <div id=\"df-99aae3b9-265f-42c1-934c-553f19519a34\">\n",
              "      <button class=\"colab-df-quickchart\" onclick=\"quickchart('df-99aae3b9-265f-42c1-934c-553f19519a34')\"\n",
              "              title=\"Suggest charts.\"\n",
              "              style=\"display:none;\">\n",
              "\n",
              "<svg xmlns=\"http://www.w3.org/2000/svg\" height=\"24px\"viewBox=\"0 0 24 24\"\n",
              "     width=\"24px\">\n",
              "    <g>\n",
              "        <path d=\"M19 3H5c-1.1 0-2 .9-2 2v14c0 1.1.9 2 2 2h14c1.1 0 2-.9 2-2V5c0-1.1-.9-2-2-2zM9 17H7v-7h2v7zm4 0h-2V7h2v10zm4 0h-2v-4h2v4z\"/>\n",
              "    </g>\n",
              "</svg>\n",
              "      </button>\n",
              "    </div>\n",
              "\n",
              "<style>\n",
              "  .colab-df-quickchart {\n",
              "    background-color: #E8F0FE;\n",
              "    border: none;\n",
              "    border-radius: 50%;\n",
              "    cursor: pointer;\n",
              "    display: none;\n",
              "    fill: #1967D2;\n",
              "    height: 32px;\n",
              "    padding: 0 0 0 0;\n",
              "    width: 32px;\n",
              "  }\n",
              "\n",
              "  .colab-df-quickchart:hover {\n",
              "    background-color: #E2EBFA;\n",
              "    box-shadow: 0px 1px 2px rgba(60, 64, 67, 0.3), 0px 1px 3px 1px rgba(60, 64, 67, 0.15);\n",
              "    fill: #174EA6;\n",
              "  }\n",
              "\n",
              "  [theme=dark] .colab-df-quickchart {\n",
              "    background-color: #3B4455;\n",
              "    fill: #D2E3FC;\n",
              "  }\n",
              "\n",
              "  [theme=dark] .colab-df-quickchart:hover {\n",
              "    background-color: #434B5C;\n",
              "    box-shadow: 0px 1px 3px 1px rgba(0, 0, 0, 0.15);\n",
              "    filter: drop-shadow(0px 1px 2px rgba(0, 0, 0, 0.3));\n",
              "    fill: #FFFFFF;\n",
              "  }\n",
              "</style>\n",
              "\n",
              "    <script>\n",
              "      async function quickchart(key) {\n",
              "        const containerElement = document.querySelector('#' + key);\n",
              "        const charts = await google.colab.kernel.invokeFunction(\n",
              "            'suggestCharts', [key], {});\n",
              "      }\n",
              "    </script>\n",
              "\n",
              "      <script>\n",
              "\n",
              "function displayQuickchartButton(domScope) {\n",
              "  let quickchartButtonEl =\n",
              "    domScope.querySelector('#df-99aae3b9-265f-42c1-934c-553f19519a34 button.colab-df-quickchart');\n",
              "  quickchartButtonEl.style.display =\n",
              "    google.colab.kernel.accessAllowed ? 'block' : 'none';\n",
              "}\n",
              "\n",
              "        displayQuickchartButton(document);\n",
              "      </script>\n",
              "      <style>\n",
              "    .colab-df-container {\n",
              "      display:flex;\n",
              "      flex-wrap:wrap;\n",
              "      gap: 12px;\n",
              "    }\n",
              "\n",
              "    .colab-df-convert {\n",
              "      background-color: #E8F0FE;\n",
              "      border: none;\n",
              "      border-radius: 50%;\n",
              "      cursor: pointer;\n",
              "      display: none;\n",
              "      fill: #1967D2;\n",
              "      height: 32px;\n",
              "      padding: 0 0 0 0;\n",
              "      width: 32px;\n",
              "    }\n",
              "\n",
              "    .colab-df-convert:hover {\n",
              "      background-color: #E2EBFA;\n",
              "      box-shadow: 0px 1px 2px rgba(60, 64, 67, 0.3), 0px 1px 3px 1px rgba(60, 64, 67, 0.15);\n",
              "      fill: #174EA6;\n",
              "    }\n",
              "\n",
              "    [theme=dark] .colab-df-convert {\n",
              "      background-color: #3B4455;\n",
              "      fill: #D2E3FC;\n",
              "    }\n",
              "\n",
              "    [theme=dark] .colab-df-convert:hover {\n",
              "      background-color: #434B5C;\n",
              "      box-shadow: 0px 1px 3px 1px rgba(0, 0, 0, 0.15);\n",
              "      filter: drop-shadow(0px 1px 2px rgba(0, 0, 0, 0.3));\n",
              "      fill: #FFFFFF;\n",
              "    }\n",
              "  </style>\n",
              "\n",
              "      <script>\n",
              "        const buttonEl =\n",
              "          document.querySelector('#df-04cec3db-067f-44d0-9b46-888ea9cb3745 button.colab-df-convert');\n",
              "        buttonEl.style.display =\n",
              "          google.colab.kernel.accessAllowed ? 'block' : 'none';\n",
              "\n",
              "        async function convertToInteractive(key) {\n",
              "          const element = document.querySelector('#df-04cec3db-067f-44d0-9b46-888ea9cb3745');\n",
              "          const dataTable =\n",
              "            await google.colab.kernel.invokeFunction('convertToInteractive',\n",
              "                                                     [key], {});\n",
              "          if (!dataTable) return;\n",
              "\n",
              "          const docLinkHtml = 'Like what you see? Visit the ' +\n",
              "            '<a target=\"_blank\" href=https://colab.research.google.com/notebooks/data_table.ipynb>data table notebook</a>'\n",
              "            + ' to learn more about interactive tables.';\n",
              "          element.innerHTML = '';\n",
              "          dataTable['output_type'] = 'display_data';\n",
              "          await google.colab.output.renderOutput(dataTable, element);\n",
              "          const docLink = document.createElement('div');\n",
              "          docLink.innerHTML = docLinkHtml;\n",
              "          element.appendChild(docLink);\n",
              "        }\n",
              "      </script>\n",
              "    </div>\n",
              "  </div>\n"
            ]
          },
          "metadata": {},
          "execution_count": 24
        }
      ]
    },
    {
      "cell_type": "code",
      "source": [
        "\n",
        "# Visualisasi Time Series menggunakan line chart\n",
        "plt.figure(figsize=(10, 6))\n",
        "plt.plot(data_gabung.index, data_gabung['Jumlah karyawan bertahan'], marker='o', linestyle='-', color='b')\n",
        "plt.xlabel('Tahun')\n",
        "plt.ylabel('Jumlah karyawan bertahan')\n",
        "plt.title('Perubahan Kenaikan dan Penurunan Karyawan')\n",
        "plt.grid(True)\n",
        "\n",
        "# Menampilkan Grafik\n",
        "plt.show()\n",
        "\n",
        "\n",
        "\n",
        "\n",
        "\n"
      ],
      "metadata": {
        "colab": {
          "base_uri": "https://localhost:8080/",
          "height": 564
        },
        "id": "CPb1k2hZfsaN",
        "outputId": "d8d079be-9fad-418f-f2ad-e7586a305e0b"
      },
      "execution_count": 25,
      "outputs": [
        {
          "output_type": "display_data",
          "data": {
            "text/plain": [
              "<Figure size 1000x600 with 1 Axes>"
            ],
            "image/png": "[encoded data removed]"
          },
          "metadata": {}
        }
      ]
    },
    {
      "cell_type": "code",
      "source": [
        "# melakukan visualisasi menggunakan Waterfall\n",
        "import plotly.graph_objects as go\n",
        "fig2 = go.Figure(go.Waterfall(\n",
        "name = 'EnterpriseID', orientation= \"v\",\n",
        "x = [\"2006\", \"2007\", \"2008\", \"2009\", \"2010\", \"2011\", \"2012\", \"2013\", \"2014\", \"2015\", \"2016\", \"2017\", \"2018\", \"2019\", \"2020\"],\n",
        "textposition='auto',\n",
        "text =['1','2','2','7','8','76','41','38','44','23','6','-14','-25','-5','-6'],\n",
        "y = [1, 2, 2, 7, 8, 76, 4, 1, 38, 44, 23, 6, -14, -25, -5, -6],\n",
        "connector ={\"line\":{\"color\":\"#b20710\"}},\n",
        "increasing = {\"marker\":{\"color\":\"#b20710\"}},\n",
        "decreasing = {\"marker\":{\"color\":\"orange\"}},\n",
        "))"
      ],
      "metadata": {
        "id": "1omXoIfAfr--"
      },
      "execution_count": 26,
      "outputs": []
    },
    {
      "cell_type": "code",
      "source": [
        "fig2.update_xaxes(showgrid=False)\n",
        "fig2.update_yaxes(showgrid=False, visible=False)\n",
        "fig2.update_traces(hovertemplate=None)\n",
        "fig2.update_layout(title='Perubahan Kenaikan dan Penurunan Karyawan', height=350,\n",
        "                   margin=dict(t=80, b=20, l=50, r=50),\n",
        "                   hovermode=\"x unified\",\n",
        "                   xaxis_title=' ', yaxis_title=\" \",\n",
        "                   plot_bgcolor='#333', paper_bgcolor='#333',\n",
        "                   title_font=dict(size=25, color='#8a8d93', family=\"Lato, sans-serif\"),\n",
        "                   font=dict(color='#8a8d93'))"
      ],
      "metadata": {
        "colab": {
          "base_uri": "https://localhost:8080/",
          "height": 367
        },
        "id": "y_PsfNdr9arn",
        "outputId": "dacd247d-f85a-46d8-dcc2-42f5b6fb564f"
      },
      "execution_count": 33,
      "outputs": [
        {
          "output_type": "display_data",
          "data": {
            "text/html": [
              "<html>\n",
              "<head><meta charset=\"utf-8\" /></head>\n",
              "<body>\n",
              "    <div>            <script src=\"https://cdnjs.cloudflare.com/ajax/libs/mathjax/2.7.5/MathJax.js?config=TeX-AMS-MML_SVG\"></script><script type=\"text/javascript\">if (window.MathJax && window.MathJax.Hub && window.MathJax.Hub.Config) {window.MathJax.Hub.Config({SVG: {font: \"STIX-Web\"}});}</script>                <script type=\"text/javascript\">window.PlotlyConfig = {MathJaxConfig: 'local'};</script>\n",
              "        <script src=\"https://cdn.plot.ly/plotly-2.18.2.min.js\"></script>                <div id=\"8eda7d40-0337-4d4c-b837-7acfd889b52d\" class=\"plotly-graph-div\" style=\"height:350px; width:100%;\"></div>            <script type=\"text/javascript\">                                    window.PLOTLYENV=window.PLOTLYENV || {};                                    if (document.getElementById(\"8eda7d40-0337-4d4c-b837-7acfd889b52d\")) {                    Plotly.newPlot(                        \"8eda7d40-0337-4d4c-b837-7acfd889b52d\",                        [{\"connector\":{\"line\":{\"color\":\"#b20710\"}},\"decreasing\":{\"marker\":{\"color\":\"orange\"}},\"increasing\":{\"marker\":{\"color\":\"#b20710\"}},\"name\":\"EnterpriseID\",\"orientation\":\"v\",\"text\":[\"1\",\"2\",\"2\",\"7\",\"8\",\"76\",\"41\",\"38\",\"44\",\"23\",\"6\",\"-14\",\"-25\",\"-5\",\"-6\"],\"textposition\":\"auto\",\"x\":[\"2006\",\"2007\",\"2008\",\"2009\",\"2010\",\"2011\",\"2012\",\"2013\",\"2014\",\"2015\",\"2016\",\"2017\",\"2018\",\"2019\",\"2020\"],\"y\":[1,2,2,7,8,76,4,1,38,44,23,6,-14,-25,-5,-6],\"type\":\"waterfall\"}],                        {\"template\":{\"data\":{\"histogram2dcontour\":[{\"type\":\"histogram2dcontour\",\"colorbar\":{\"outlinewidth\":0,\"ticks\":\"\"},\"colorscale\":[[0.0,\"#0d0887\"],[0.1111111111111111,\"#46039f\"],[0.2222222222222222,\"#7201a8\"],[0.3333333333333333,\"#9c179e\"],[0.4444444444444444,\"#bd3786\"],[0.5555555555555556,\"#d8576b\"],[0.6666666666666666,\"#ed7953\"],[0.7777777777777778,\"#fb9f3a\"],[0.8888888888888888,\"#fdca26\"],[1.0,\"#f0f921\"]]}],\"choropleth\":[{\"type\":\"choropleth\",\"colorbar\":{\"outlinewidth\":0,\"ticks\":\"\"}}],\"histogram2d\":[{\"type\":\"histogram2d\",\"colorbar\":{\"outlinewidth\":0,\"ticks\":\"\"},\"colorscale\":[[0.0,\"#0d0887\"],[0.1111111111111111,\"#46039f\"],[0.2222222222222222,\"#7201a8\"],[0.3333333333333333,\"#9c179e\"],[0.4444444444444444,\"#bd3786\"],[0.5555555555555556,\"#d8576b\"],[0.6666666666666666,\"#ed7953\"],[0.7777777777777778,\"#fb9f3a\"],[0.8888888888888888,\"#fdca26\"],[1.0,\"#f0f921\"]]}],\"heatmap\":[{\"type\":\"heatmap\",\"colorbar\":{\"outlinewidth\":0,\"ticks\":\"\"},\"colorscale\":[[0.0,\"#0d0887\"],[0.1111111111111111,\"#46039f\"],[0.2222222222222222,\"#7201a8\"],[0.3333333333333333,\"#9c179e\"],[0.4444444444444444,\"#bd3786\"],[0.5555555555555556,\"#d8576b\"],[0.6666666666666666,\"#ed7953\"],[0.7777777777777778,\"#fb9f3a\"],[0.8888888888888888,\"#fdca26\"],[1.0,\"#f0f921\"]]}],\"heatmapgl\":[{\"type\":\"heatmapgl\",\"colorbar\":{\"outlinewidth\":0,\"ticks\":\"\"},\"colorscale\":[[0.0,\"#0d0887\"],[0.1111111111111111,\"#46039f\"],[0.2222222222222222,\"#7201a8\"],[0.3333333333333333,\"#9c179e\"],[0.4444444444444444,\"#bd3786\"],[0.5555555555555556,\"#d8576b\"],[0.6666666666666666,\"#ed7953\"],[0.7777777777777778,\"#fb9f3a\"],[0.8888888888888888,\"#fdca26\"],[1.0,\"#f0f921\"]]}],\"contourcarpet\":[{\"type\":\"contourcarpet\",\"colorbar\":{\"outlinewidth\":0,\"ticks\":\"\"}}],\"contour\":[{\"type\":\"contour\",\"colorbar\":{\"outlinewidth\":0,\"ticks\":\"\"},\"colorscale\":[[0.0,\"#0d0887\"],[0.1111111111111111,\"#46039f\"],[0.2222222222222222,\"#7201a8\"],[0.3333333333333333,\"#9c179e\"],[0.4444444444444444,\"#bd3786\"],[0.5555555555555556,\"#d8576b\"],[0.6666666666666666,\"#ed7953\"],[0.7777777777777778,\"#fb9f3a\"],[0.8888888888888888,\"#fdca26\"],[1.0,\"#f0f921\"]]}],\"surface\":[{\"type\":\"surface\",\"colorbar\":{\"outlinewidth\":0,\"ticks\":\"\"},\"colorscale\":[[0.0,\"#0d0887\"],[0.1111111111111111,\"#46039f\"],[0.2222222222222222,\"#7201a8\"],[0.3333333333333333,\"#9c179e\"],[0.4444444444444444,\"#bd3786\"],[0.5555555555555556,\"#d8576b\"],[0.6666666666666666,\"#ed7953\"],[0.7777777777777778,\"#fb9f3a\"],[0.8888888888888888,\"#fdca26\"],[1.0,\"#f0f921\"]]}],\"mesh3d\":[{\"type\":\"mesh3d\",\"colorbar\":{\"outlinewidth\":0,\"ticks\":\"\"}}],\"scatter\":[{\"fillpattern\":{\"fillmode\":\"overlay\",\"size\":10,\"solidity\":0.2},\"type\":\"scatter\"}],\"parcoords\":[{\"type\":\"parcoords\",\"line\":{\"colorbar\":{\"outlinewidth\":0,\"ticks\":\"\"}}}],\"scatterpolargl\":[{\"type\":\"scatterpolargl\",\"marker\":{\"colorbar\":{\"outlinewidth\":0,\"ticks\":\"\"}}}],\"bar\":[{\"error_x\":{\"color\":\"#2a3f5f\"},\"error_y\":{\"color\":\"#2a3f5f\"},\"marker\":{\"line\":{\"color\":\"#E5ECF6\",\"width\":0.5},\"pattern\":{\"fillmode\":\"overlay\",\"size\":10,\"solidity\":0.2}},\"type\":\"bar\"}],\"scattergeo\":[{\"type\":\"scattergeo\",\"marker\":{\"colorbar\":{\"outlinewidth\":0,\"ticks\":\"\"}}}],\"scatterpolar\":[{\"type\":\"scatterpolar\",\"marker\":{\"colorbar\":{\"outlinewidth\":0,\"ticks\":\"\"}}}],\"histogram\":[{\"marker\":{\"pattern\":{\"fillmode\":\"overlay\",\"size\":10,\"solidity\":0.2}},\"type\":\"histogram\"}],\"scattergl\":[{\"type\":\"scattergl\",\"marker\":{\"colorbar\":{\"outlinewidth\":0,\"ticks\":\"\"}}}],\"scatter3d\":[{\"type\":\"scatter3d\",\"line\":{\"colorbar\":{\"outlinewidth\":0,\"ticks\":\"\"}},\"marker\":{\"colorbar\":{\"outlinewidth\":0,\"ticks\":\"\"}}}],\"scattermapbox\":[{\"type\":\"scattermapbox\",\"marker\":{\"colorbar\":{\"outlinewidth\":0,\"ticks\":\"\"}}}],\"scatterternary\":[{\"type\":\"scatterternary\",\"marker\":{\"colorbar\":{\"outlinewidth\":0,\"ticks\":\"\"}}}],\"scattercarpet\":[{\"type\":\"scattercarpet\",\"marker\":{\"colorbar\":{\"outlinewidth\":0,\"ticks\":\"\"}}}],\"carpet\":[{\"aaxis\":{\"endlinecolor\":\"#2a3f5f\",\"gridcolor\":\"white\",\"linecolor\":\"white\",\"minorgridcolor\":\"white\",\"startlinecolor\":\"#2a3f5f\"},\"baxis\":{\"endlinecolor\":\"#2a3f5f\",\"gridcolor\":\"white\",\"linecolor\":\"white\",\"minorgridcolor\":\"white\",\"startlinecolor\":\"#2a3f5f\"},\"type\":\"carpet\"}],\"table\":[{\"cells\":{\"fill\":{\"color\":\"#EBF0F8\"},\"line\":{\"color\":\"white\"}},\"header\":{\"fill\":{\"color\":\"#C8D4E3\"},\"line\":{\"color\":\"white\"}},\"type\":\"table\"}],\"barpolar\":[{\"marker\":{\"line\":{\"color\":\"#E5ECF6\",\"width\":0.5},\"pattern\":{\"fillmode\":\"overlay\",\"size\":10,\"solidity\":0.2}},\"type\":\"barpolar\"}],\"pie\":[{\"automargin\":true,\"type\":\"pie\"}]},\"layout\":{\"autotypenumbers\":\"strict\",\"colorway\":[\"#636efa\",\"#EF553B\",\"#00cc96\",\"#ab63fa\",\"#FFA15A\",\"#19d3f3\",\"#FF6692\",\"#B6E880\",\"#FF97FF\",\"#FECB52\"],\"font\":{\"color\":\"#2a3f5f\"},\"hovermode\":\"closest\",\"hoverlabel\":{\"align\":\"left\"},\"paper_bgcolor\":\"white\",\"plot_bgcolor\":\"#E5ECF6\",\"polar\":{\"bgcolor\":\"#E5ECF6\",\"angularaxis\":{\"gridcolor\":\"white\",\"linecolor\":\"white\",\"ticks\":\"\"},\"radialaxis\":{\"gridcolor\":\"white\",\"linecolor\":\"white\",\"ticks\":\"\"}},\"ternary\":{\"bgcolor\":\"#E5ECF6\",\"aaxis\":{\"gridcolor\":\"white\",\"linecolor\":\"white\",\"ticks\":\"\"},\"baxis\":{\"gridcolor\":\"white\",\"linecolor\":\"white\",\"ticks\":\"\"},\"caxis\":{\"gridcolor\":\"white\",\"linecolor\":\"white\",\"ticks\":\"\"}},\"coloraxis\":{\"colorbar\":{\"outlinewidth\":0,\"ticks\":\"\"}},\"colorscale\":{\"sequential\":[[0.0,\"#0d0887\"],[0.1111111111111111,\"#46039f\"],[0.2222222222222222,\"#7201a8\"],[0.3333333333333333,\"#9c179e\"],[0.4444444444444444,\"#bd3786\"],[0.5555555555555556,\"#d8576b\"],[0.6666666666666666,\"#ed7953\"],[0.7777777777777778,\"#fb9f3a\"],[0.8888888888888888,\"#fdca26\"],[1.0,\"#f0f921\"]],\"sequentialminus\":[[0.0,\"#0d0887\"],[0.1111111111111111,\"#46039f\"],[0.2222222222222222,\"#7201a8\"],[0.3333333333333333,\"#9c179e\"],[0.4444444444444444,\"#bd3786\"],[0.5555555555555556,\"#d8576b\"],[0.6666666666666666,\"#ed7953\"],[0.7777777777777778,\"#fb9f3a\"],[0.8888888888888888,\"#fdca26\"],[1.0,\"#f0f921\"]],\"diverging\":[[0,\"#8e0152\"],[0.1,\"#c51b7d\"],[0.2,\"#de77ae\"],[0.3,\"#f1b6da\"],[0.4,\"#fde0ef\"],[0.5,\"#f7f7f7\"],[0.6,\"#e6f5d0\"],[0.7,\"#b8e186\"],[0.8,\"#7fbc41\"],[0.9,\"#4d9221\"],[1,\"#276419\"]]},\"xaxis\":{\"gridcolor\":\"white\",\"linecolor\":\"white\",\"ticks\":\"\",\"title\":{\"standoff\":15},\"zerolinecolor\":\"white\",\"automargin\":true,\"zerolinewidth\":2},\"yaxis\":{\"gridcolor\":\"white\",\"linecolor\":\"white\",\"ticks\":\"\",\"title\":{\"standoff\":15},\"zerolinecolor\":\"white\",\"automargin\":true,\"zerolinewidth\":2},\"scene\":{\"xaxis\":{\"backgroundcolor\":\"#E5ECF6\",\"gridcolor\":\"white\",\"linecolor\":\"white\",\"showbackground\":true,\"ticks\":\"\",\"zerolinecolor\":\"white\",\"gridwidth\":2},\"yaxis\":{\"backgroundcolor\":\"#E5ECF6\",\"gridcolor\":\"white\",\"linecolor\":\"white\",\"showbackground\":true,\"ticks\":\"\",\"zerolinecolor\":\"white\",\"gridwidth\":2},\"zaxis\":{\"backgroundcolor\":\"#E5ECF6\",\"gridcolor\":\"white\",\"linecolor\":\"white\",\"showbackground\":true,\"ticks\":\"\",\"zerolinecolor\":\"white\",\"gridwidth\":2}},\"shapedefaults\":{\"line\":{\"color\":\"#2a3f5f\"}},\"annotationdefaults\":{\"arrowcolor\":\"#2a3f5f\",\"arrowhead\":0,\"arrowwidth\":1},\"geo\":{\"bgcolor\":\"white\",\"landcolor\":\"#E5ECF6\",\"subunitcolor\":\"white\",\"showland\":true,\"showlakes\":true,\"lakecolor\":\"white\"},\"title\":{\"x\":0.05},\"mapbox\":{\"style\":\"light\"}}},\"xaxis\":{\"showgrid\":false,\"title\":{\"text\":\" \"}},\"yaxis\":{\"showgrid\":false,\"visible\":false,\"title\":{\"text\":\" \"}},\"margin\":{\"t\":100,\"b\":20,\"l\":50,\"r\":50},\"title\":{\"text\":\"Perubahan Kenaikan dan Penurunan Karyawan\",\"font\":{\"size\":25,\"color\":\"#8a8d93\",\"family\":\"Lato, sans-serif\"}},\"font\":{\"color\":\"#8a8d93\"},\"height\":350,\"hovermode\":\"x unified\",\"plot_bgcolor\":\"#333\",\"paper_bgcolor\":\"#333\"},                        {\"responsive\": true}                    ).then(function(){\n",
              "                            \n",
              "var gd = document.getElementById('8eda7d40-0337-4d4c-b837-7acfd889b52d');\n",
              "var x = new MutationObserver(function (mutations, observer) {{\n",
              "        var display = window.getComputedStyle(gd).display;\n",
              "        if (!display || display === 'none') {{\n",
              "            console.log([gd, 'removed!']);\n",
              "            Plotly.purge(gd);\n",
              "            observer.disconnect();\n",
              "        }}\n",
              "}});\n",
              "\n",
              "// Listen for the removal of the full notebook cells\n",
              "var notebookContainer = gd.closest('#notebook-container');\n",
              "if (notebookContainer) {{\n",
              "    x.observe(notebookContainer, {childList: true});\n",
              "}}\n",
              "\n",
              "// Listen for the clearing of the current output cell\n",
              "var outputEl = gd.closest('.output');\n",
              "if (outputEl) {{\n",
              "    x.observe(outputEl, {childList: true});\n",
              "}}\n",
              "\n",
              "                        })                };                            </script>        </div>\n",
              "</body>\n",
              "</html>"
            ]
          },
          "metadata": {}
        }
      ]
    },
    {
      "cell_type": "code",
      "source": [
        "!pip install waterfall_chart"
      ],
      "metadata": {
        "id": "Qak4toBBfr9E",
        "colab": {
          "base_uri": "https://localhost:8080/"
        },
        "outputId": "fe24c4b9-aefa-4ded-8dfb-49d190a2ec66"
      },
      "execution_count": 34,
      "outputs": [
        {
          "output_type": "stream",
          "name": "stdout",
          "text": [
            "\u001b[31mERROR: Could not find a version that satisfies the requirement waterfall_chart (from versions: none)\u001b[0m\u001b[31m\n",
            "\u001b[0m\u001b[31mERROR: No matching distribution found for waterfall_chart\u001b[0m\u001b[31m\n",
            "\u001b[0m"
          ]
        }
      ]
    },
    {
      "cell_type": "code",
      "source": [
        "import pandas as pd\n",
        "import matplotlib.pyplot as plt\n",
        "\n",
        "# Sample data\n",
        "years = [2006, 2007, 2008, 2009, 2010, 2011, 2012, 2013, 2014, 2015, 2016, 2017, 2018, 2019, 2020]\n",
        "bertahan = [1, 2, 2, 7, 8, 76, 41, 38, 44, 23, 6, -14, -25, -5, -6]\n",
        "\n",
        "# Calculate cumulative sum\n",
        "cumulative = [sum(bertahan[:i+1]) for i in range(len(bertahan))]\n",
        "\n",
        "# Create waterfall chart\n",
        "plt.figure(figsize=(10, 6))\n",
        "plt.bar(years, bertahan, color='g', label='Bertahan')\n",
        "plt.bar(years, [-x for x in bertahan], color='r', label='Keluar')\n",
        "plt.plot(years, cumulative, marker='o', linestyle='-', color='b', label='Total Karyawan')\n",
        "\n",
        "plt.xlabel('Tahun')\n",
        "plt.ylabel('Jumlah Karyawan')\n",
        "plt.title('Perubahan Kenaikan dan Penurunan Karyawan')\n",
        "plt.legend()\n",
        "plt.grid(True)\n",
        "\n",
        "plt.show()\n"
      ],
      "metadata": {
        "colab": {
          "base_uri": "https://localhost:8080/",
          "height": 564
        },
        "id": "bYy6FCELsVj6",
        "outputId": "0971ca2f-76f4-4651-8827-a2be1dfcc1c8"
      },
      "execution_count": 35,
      "outputs": [
        {
          "output_type": "display_data",
          "data": {
            "text/plain": [
              "<Figure size 1000x600 with 1 Axes>"
            ],
            "image/png": "[encoded data removed]"
          },
          "metadata": {}
        }
      ]
    },
    {
      "cell_type": "code",
      "source": [
        "x = [\"2006\", \"2007\", \"2008\", \"2009\", \"2010\", \"2011\", \"2012\", \"2013\", \"2014\", \"2015\", \"2016\", \"2017\", \"2018\", \"2019\", \"2020\"]\n",
        "y = [1, 2, 2, 7, 8, 76, 4, 1, 38, 44, 23, 6, -14, -25, -5, -6]\n",
        "waterfall.plot(x, y);"
      ],
      "metadata": {
        "id": "rLGfTiKQsVZs"
      },
      "execution_count": null,
      "outputs": []
    },
    {
      "cell_type": "code",
      "source": [
        "# melakuka pengecekan ulang pada data yg memiliki missing value\n",
        "#data_missing = data.isnull().sum()\n",
        "#missing_value = data_missing [data_missing>0]\n",
        "#missing_value\n",
        "\n",
        "# melakukan drop pada kolom yang missing\n",
        "#data =data.drop(columns='TanggalResign',axis=1)\n",
        "\n",
        "#data.isnull().sum()"
      ],
      "metadata": {
        "id": "fzQ2p3vsSmF6"
      },
      "execution_count": null,
      "outputs": []
    },
    {
      "cell_type": "code",
      "source": [],
      "metadata": {
        "id": "wahkn5GFUd-i"
      },
      "execution_count": null,
      "outputs": []
    }
  ],
  "metadata": {
    "colab": {
      "provenance": [],
      "include_colab_link": true
    },
    "kernelspec": {
      "display_name": "Python 3",
      "name": "python3"
    }
  },
  "nbformat": 4,
  "nbformat_minor": 0
}